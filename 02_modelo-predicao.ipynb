{
 "cells": [
  {
   "cell_type": "markdown",
   "metadata": {},
   "source": [
    "# **Impacto no uso de People Analytics em decisões organizacionais para identificação de talentos**"
   ]
  },
  {
   "cell_type": "markdown",
   "metadata": {},
   "source": [
    "**Objetivo:** Este notebook objetiva apresentar os experimentos de um **Modelo de Classificação**, vinculado ao Trabalho de Conclusão de Curso para Data Science and Analytics, junto a USP-Esalq, utilizando a metodologia CRISP-DM, desde sua fase de Entendimento dos Dados à última etapa de Implantação. \n",
    "\n",
    "**Experimentos**: As testagens considerarão o uso de três modelagens: Regressão Logística, Árvore de Decisão e Random Forest. As escolhas destes algoritmos se deram justamente pela complementação entre eles, além da facilidade de uso e interpretabilidade dos modelos. A Regressão Logística é fácil de interpretar e mostra como cada variável impacta a chance de promoção. A Árvore de Decisão gera regras simples e visuais que facilitam entender as decisões. Já o Random Forest é mais robusto, melhorando a precisão e ajudando a evitar erros comuns em modelos mais simples. Desta forma, se torna possível analisar e comparar de forma clara a performance de cada um deles, auxiliando na escolha do modelo \"vencedor\".\n",
    "\n",
    "**Link Dataset:** https://www.kaggle.com/datasets/bhrt97/hr-analytics-classification\n",
    "\n",
    "*Para acessar a documentação do projeto, com os insights, instruções e resultados obtidos, acesse o arquivo README.md deste repositório*"
   ]
  },
  {
   "cell_type": "markdown",
   "metadata": {},
   "source": [
    "## 📘 Dicionário de Variáveis\n",
    "\n",
    "| Nome da Variável       | Significado                                                                                           |\n",
    "|------------------------|-------------------------------------------------------------------------------------------------------|\n",
    "| **matricula**          | Identificador único do(a) colaborador(a) na empresa.                                                  |\n",
    "| **departamento**       | Departamento ou área em que o(a) colaborador(a) atua (ex: Vendas, Tecnologia, RH).                   |\n",
    "| **regiao**             | Região geográfica de atuação do(a) colaborador(a) (sem ordem ou hierarquia específica).               |\n",
    "| **escolaridade**       | Nível educacional alcançado pelo(a) colaborador(a) (ex: Graduação, Pós-graduação, etc.).             |\n",
    "| **genero**             | Gênero do(a) colaborador(a), geralmente categorizado como \"Masculino\" ou \"Feminino\".                 |\n",
    "| **canal_recrutamento** | Canal através do qual o(a) colaborador(a) foi recrutado(a) (ex: Recrutamento Interno, Agência).      |\n",
    "| **qtd_treinamentos**   | Número de treinamentos (técnicos ou comportamentais) realizados no ano anterior.                      |\n",
    "| **idade**              | Idade do(a) colaborador(a), em anos.                                                                  |\n",
    "| **avaliacao_anterior** | Nota de desempenho atribuída ao(à) colaborador(a) no ano anterior (geralmente em uma escala de 1 a 5).|\n",
    "| **tempo_empresa**      | Tempo de serviço na empresa, em anos completos.                                                       |\n",
    "| **kpis_atingidos**     | Indicador binário: 1 se mais de 80% dos KPIs (indicadores de performance) foram atingidos; 0 caso contrário. |\n",
    "| **premios**            | Indicador binário: 1 se o(a) colaborador(a) ganhou algum prêmio no ano anterior; 0 caso contrário.    |\n",
    "| **media_treinamento**  | Nota média obtida nos treinamentos atuais (avaliações de desempenho nos cursos realizados).           |\n",
    "| **promovido**          | Variável alvo (target): 1 se o(a) colaborador(a) foi recomendado(a) para promoção; 0 caso contrário.  |\n"
   ]
  },
  {
   "cell_type": "markdown",
   "metadata": {},
   "source": [
    "## Importar Bibliotecas"
   ]
  },
  {
   "cell_type": "code",
   "execution_count": 1,
   "metadata": {},
   "outputs": [],
   "source": [
    "# ============================================================\n",
    "# 1. Importação de bibliotecas para manipulação dos dados e plots \n",
    "# ============================================================\n",
    "\n",
    "import pandas as pd\n",
    "import numpy as np\n",
    "\n",
    "# ============================================================\n",
    "# 2. Importação de bibliotecas relacionados à machine learning\n",
    "# ============================================================\n",
    "\n",
    "from sklearn.model_selection import train_test_split, StratifiedKFold, cross_val_score, GridSearchCV\n",
    "from sklearn.preprocessing import StandardScaler, OneHotEncoder\n",
    "from sklearn.compose import ColumnTransformer\n",
    "from sklearn.pipeline import Pipeline\n",
    "from sklearn.impute import SimpleImputer\n",
    "from sklearn.linear_model import LogisticRegression\n",
    "from sklearn.tree import DecisionTreeClassifier\n",
    "from sklearn.ensemble import RandomForestClassifier\n",
    "from sklearn.metrics import classification_report, confusion_matrix, roc_auc_score, roc_curve\n",
    "\n",
    "from modulo_graficos import grafico_movimentacao_promovidos # Módulo Python (disponível no repositório do projeto)"
   ]
  },
  {
   "cell_type": "code",
   "execution_count": 2,
   "metadata": {},
   "outputs": [],
   "source": [
    "# ============================================================\n",
    "# 2. Ajustes visuais para visualização das tabelas e células\n",
    "# ============================================================\n",
    "\n",
    "pd.set_option('display.max_colwidth', None) # remover truncamento de valores das colunas\n",
    "pd.set_option('display.max_rows', None) # remover truncamento do número de linhas exibidas\n",
    "pd.set_option('display.max_columns', None) # remover truncamento do número de colunas exibidas\n",
    "pd.set_option('display.float_format', '{:.2f}'.format) # valores quebrados serão setados com 2 casas decimais"
   ]
  },
  {
   "cell_type": "markdown",
   "metadata": {},
   "source": [
    "## Input dos Dados\n",
    "\n",
    "A base de dados disponibilizada pelo Kaggle está dividida em dois arquivos: treino e teste. \n",
    "\n",
    "Seguirei, portanto, a seguinte abordagem:\n",
    "\n",
    "- A base de treino será utilizada para treinamento e validação do modelo (usando técnicas como validação cruzada ou divisão em treino/validação).\n",
    "- A base de teste será utilizada apenas posteriormente para geração das previsões finais, pois seus rótulos são ocultos (avaliação cega).\n",
    "\n",
    "A abordagem segue desta forma, pois visa garantir que o modelo não tenha acesso a dados do conjunto de teste durante o treinamento, evitando vazamento de informação e garantindo uma avaliação justa."
   ]
  },
  {
   "cell_type": "code",
   "execution_count": 3,
   "metadata": {},
   "outputs": [
    {
     "name": "stdout",
     "output_type": "stream",
     "text": [
      "DF Treino: (54808, 14)\n",
      "DF Teste: (23490, 13)\n"
     ]
    }
   ],
   "source": [
    "# ============================================================\n",
    "# 3. Carregando base de dados e obtendo informações inicial dos dados\n",
    "# ============================================================\n",
    "\n",
    "df_treino = pd.read_csv(\"dataset/train_hr_class.csv\")\n",
    "df_teste = pd.read_csv(\"dataset/test_hr_class.csv\")\n",
    "print(f\"DF Treino: {df_treino.shape}\")\n",
    "print(f\"DF Teste: {df_teste.shape}\")"
   ]
  },
  {
   "cell_type": "code",
   "execution_count": 4,
   "metadata": {},
   "outputs": [
    {
     "name": "stdout",
     "output_type": "stream",
     "text": [
      "<class 'pandas.core.frame.DataFrame'>\n",
      "RangeIndex: 54808 entries, 0 to 54807\n",
      "Data columns (total 14 columns):\n",
      " #   Column                Non-Null Count  Dtype  \n",
      "---  ------                --------------  -----  \n",
      " 0   employee_id           54808 non-null  int64  \n",
      " 1   department            54808 non-null  object \n",
      " 2   region                54808 non-null  object \n",
      " 3   education             52399 non-null  object \n",
      " 4   gender                54808 non-null  object \n",
      " 5   recruitment_channel   54808 non-null  object \n",
      " 6   no_of_trainings       54808 non-null  int64  \n",
      " 7   age                   54808 non-null  int64  \n",
      " 8   previous_year_rating  50684 non-null  float64\n",
      " 9   length_of_service     54808 non-null  int64  \n",
      " 10  KPIs_met >80%         54808 non-null  int64  \n",
      " 11  awards_won?           54808 non-null  int64  \n",
      " 12  avg_training_score    54808 non-null  int64  \n",
      " 13  is_promoted           54808 non-null  int64  \n",
      "dtypes: float64(1), int64(8), object(5)\n",
      "memory usage: 5.9+ MB\n"
     ]
    }
   ],
   "source": [
    "df_treino.info()"
   ]
  },
  {
   "cell_type": "code",
   "execution_count": 5,
   "metadata": {},
   "outputs": [
    {
     "data": {
      "text/html": [
       "<div>\n",
       "<style scoped>\n",
       "    .dataframe tbody tr th:only-of-type {\n",
       "        vertical-align: middle;\n",
       "    }\n",
       "\n",
       "    .dataframe tbody tr th {\n",
       "        vertical-align: top;\n",
       "    }\n",
       "\n",
       "    .dataframe thead th {\n",
       "        text-align: right;\n",
       "    }\n",
       "</style>\n",
       "<table border=\"1\" class=\"dataframe\">\n",
       "  <thead>\n",
       "    <tr style=\"text-align: right;\">\n",
       "      <th></th>\n",
       "      <th>employee_id</th>\n",
       "      <th>department</th>\n",
       "      <th>region</th>\n",
       "      <th>education</th>\n",
       "      <th>gender</th>\n",
       "      <th>recruitment_channel</th>\n",
       "      <th>no_of_trainings</th>\n",
       "      <th>age</th>\n",
       "      <th>previous_year_rating</th>\n",
       "      <th>length_of_service</th>\n",
       "      <th>KPIs_met &gt;80%</th>\n",
       "      <th>awards_won?</th>\n",
       "      <th>avg_training_score</th>\n",
       "      <th>is_promoted</th>\n",
       "    </tr>\n",
       "  </thead>\n",
       "  <tbody>\n",
       "    <tr>\n",
       "      <th>0</th>\n",
       "      <td>65438</td>\n",
       "      <td>Sales &amp; Marketing</td>\n",
       "      <td>region_7</td>\n",
       "      <td>Master's &amp; above</td>\n",
       "      <td>f</td>\n",
       "      <td>sourcing</td>\n",
       "      <td>1</td>\n",
       "      <td>35</td>\n",
       "      <td>5.00</td>\n",
       "      <td>8</td>\n",
       "      <td>1</td>\n",
       "      <td>0</td>\n",
       "      <td>49</td>\n",
       "      <td>0</td>\n",
       "    </tr>\n",
       "    <tr>\n",
       "      <th>1</th>\n",
       "      <td>65141</td>\n",
       "      <td>Operations</td>\n",
       "      <td>region_22</td>\n",
       "      <td>Bachelor's</td>\n",
       "      <td>m</td>\n",
       "      <td>other</td>\n",
       "      <td>1</td>\n",
       "      <td>30</td>\n",
       "      <td>5.00</td>\n",
       "      <td>4</td>\n",
       "      <td>0</td>\n",
       "      <td>0</td>\n",
       "      <td>60</td>\n",
       "      <td>0</td>\n",
       "    </tr>\n",
       "    <tr>\n",
       "      <th>2</th>\n",
       "      <td>7513</td>\n",
       "      <td>Sales &amp; Marketing</td>\n",
       "      <td>region_19</td>\n",
       "      <td>Bachelor's</td>\n",
       "      <td>m</td>\n",
       "      <td>sourcing</td>\n",
       "      <td>1</td>\n",
       "      <td>34</td>\n",
       "      <td>3.00</td>\n",
       "      <td>7</td>\n",
       "      <td>0</td>\n",
       "      <td>0</td>\n",
       "      <td>50</td>\n",
       "      <td>0</td>\n",
       "    </tr>\n",
       "    <tr>\n",
       "      <th>3</th>\n",
       "      <td>2542</td>\n",
       "      <td>Sales &amp; Marketing</td>\n",
       "      <td>region_23</td>\n",
       "      <td>Bachelor's</td>\n",
       "      <td>m</td>\n",
       "      <td>other</td>\n",
       "      <td>2</td>\n",
       "      <td>39</td>\n",
       "      <td>1.00</td>\n",
       "      <td>10</td>\n",
       "      <td>0</td>\n",
       "      <td>0</td>\n",
       "      <td>50</td>\n",
       "      <td>0</td>\n",
       "    </tr>\n",
       "    <tr>\n",
       "      <th>4</th>\n",
       "      <td>48945</td>\n",
       "      <td>Technology</td>\n",
       "      <td>region_26</td>\n",
       "      <td>Bachelor's</td>\n",
       "      <td>m</td>\n",
       "      <td>other</td>\n",
       "      <td>1</td>\n",
       "      <td>45</td>\n",
       "      <td>3.00</td>\n",
       "      <td>2</td>\n",
       "      <td>0</td>\n",
       "      <td>0</td>\n",
       "      <td>73</td>\n",
       "      <td>0</td>\n",
       "    </tr>\n",
       "  </tbody>\n",
       "</table>\n",
       "</div>"
      ],
      "text/plain": [
       "   employee_id         department     region         education gender  \\\n",
       "0        65438  Sales & Marketing   region_7  Master's & above      f   \n",
       "1        65141         Operations  region_22        Bachelor's      m   \n",
       "2         7513  Sales & Marketing  region_19        Bachelor's      m   \n",
       "3         2542  Sales & Marketing  region_23        Bachelor's      m   \n",
       "4        48945         Technology  region_26        Bachelor's      m   \n",
       "\n",
       "  recruitment_channel  no_of_trainings  age  previous_year_rating  \\\n",
       "0            sourcing                1   35                  5.00   \n",
       "1               other                1   30                  5.00   \n",
       "2            sourcing                1   34                  3.00   \n",
       "3               other                2   39                  1.00   \n",
       "4               other                1   45                  3.00   \n",
       "\n",
       "   length_of_service  KPIs_met >80%  awards_won?  avg_training_score  \\\n",
       "0                  8              1            0                  49   \n",
       "1                  4              0            0                  60   \n",
       "2                  7              0            0                  50   \n",
       "3                 10              0            0                  50   \n",
       "4                  2              0            0                  73   \n",
       "\n",
       "   is_promoted  \n",
       "0            0  \n",
       "1            0  \n",
       "2            0  \n",
       "3            0  \n",
       "4            0  "
      ]
     },
     "execution_count": 5,
     "metadata": {},
     "output_type": "execute_result"
    }
   ],
   "source": [
    "df_treino.head()"
   ]
  },
  {
   "cell_type": "code",
   "execution_count": 6,
   "metadata": {},
   "outputs": [
    {
     "name": "stdout",
     "output_type": "stream",
     "text": [
      "<class 'pandas.core.frame.DataFrame'>\n",
      "RangeIndex: 23490 entries, 0 to 23489\n",
      "Data columns (total 13 columns):\n",
      " #   Column                Non-Null Count  Dtype  \n",
      "---  ------                --------------  -----  \n",
      " 0   employee_id           23490 non-null  int64  \n",
      " 1   department            23490 non-null  object \n",
      " 2   region                23490 non-null  object \n",
      " 3   education             22456 non-null  object \n",
      " 4   gender                23490 non-null  object \n",
      " 5   recruitment_channel   23490 non-null  object \n",
      " 6   no_of_trainings       23490 non-null  int64  \n",
      " 7   age                   23490 non-null  int64  \n",
      " 8   previous_year_rating  21678 non-null  float64\n",
      " 9   length_of_service     23490 non-null  int64  \n",
      " 10  KPIs_met >80%         23490 non-null  int64  \n",
      " 11  awards_won?           23490 non-null  int64  \n",
      " 12  avg_training_score    23490 non-null  int64  \n",
      "dtypes: float64(1), int64(7), object(5)\n",
      "memory usage: 2.3+ MB\n"
     ]
    }
   ],
   "source": [
    "df_teste.info()"
   ]
  },
  {
   "cell_type": "code",
   "execution_count": 7,
   "metadata": {
    "scrolled": true
   },
   "outputs": [
    {
     "data": {
      "text/html": [
       "<div>\n",
       "<style scoped>\n",
       "    .dataframe tbody tr th:only-of-type {\n",
       "        vertical-align: middle;\n",
       "    }\n",
       "\n",
       "    .dataframe tbody tr th {\n",
       "        vertical-align: top;\n",
       "    }\n",
       "\n",
       "    .dataframe thead th {\n",
       "        text-align: right;\n",
       "    }\n",
       "</style>\n",
       "<table border=\"1\" class=\"dataframe\">\n",
       "  <thead>\n",
       "    <tr style=\"text-align: right;\">\n",
       "      <th></th>\n",
       "      <th>employee_id</th>\n",
       "      <th>department</th>\n",
       "      <th>region</th>\n",
       "      <th>education</th>\n",
       "      <th>gender</th>\n",
       "      <th>recruitment_channel</th>\n",
       "      <th>no_of_trainings</th>\n",
       "      <th>age</th>\n",
       "      <th>previous_year_rating</th>\n",
       "      <th>length_of_service</th>\n",
       "      <th>KPIs_met &gt;80%</th>\n",
       "      <th>awards_won?</th>\n",
       "      <th>avg_training_score</th>\n",
       "    </tr>\n",
       "  </thead>\n",
       "  <tbody>\n",
       "    <tr>\n",
       "      <th>0</th>\n",
       "      <td>8724</td>\n",
       "      <td>Technology</td>\n",
       "      <td>region_26</td>\n",
       "      <td>Bachelor's</td>\n",
       "      <td>m</td>\n",
       "      <td>sourcing</td>\n",
       "      <td>1</td>\n",
       "      <td>24</td>\n",
       "      <td>NaN</td>\n",
       "      <td>1</td>\n",
       "      <td>1</td>\n",
       "      <td>0</td>\n",
       "      <td>77</td>\n",
       "    </tr>\n",
       "    <tr>\n",
       "      <th>1</th>\n",
       "      <td>74430</td>\n",
       "      <td>HR</td>\n",
       "      <td>region_4</td>\n",
       "      <td>Bachelor's</td>\n",
       "      <td>f</td>\n",
       "      <td>other</td>\n",
       "      <td>1</td>\n",
       "      <td>31</td>\n",
       "      <td>3.00</td>\n",
       "      <td>5</td>\n",
       "      <td>0</td>\n",
       "      <td>0</td>\n",
       "      <td>51</td>\n",
       "    </tr>\n",
       "    <tr>\n",
       "      <th>2</th>\n",
       "      <td>72255</td>\n",
       "      <td>Sales &amp; Marketing</td>\n",
       "      <td>region_13</td>\n",
       "      <td>Bachelor's</td>\n",
       "      <td>m</td>\n",
       "      <td>other</td>\n",
       "      <td>1</td>\n",
       "      <td>31</td>\n",
       "      <td>1.00</td>\n",
       "      <td>4</td>\n",
       "      <td>0</td>\n",
       "      <td>0</td>\n",
       "      <td>47</td>\n",
       "    </tr>\n",
       "    <tr>\n",
       "      <th>3</th>\n",
       "      <td>38562</td>\n",
       "      <td>Procurement</td>\n",
       "      <td>region_2</td>\n",
       "      <td>Bachelor's</td>\n",
       "      <td>f</td>\n",
       "      <td>other</td>\n",
       "      <td>3</td>\n",
       "      <td>31</td>\n",
       "      <td>2.00</td>\n",
       "      <td>9</td>\n",
       "      <td>0</td>\n",
       "      <td>0</td>\n",
       "      <td>65</td>\n",
       "    </tr>\n",
       "    <tr>\n",
       "      <th>4</th>\n",
       "      <td>64486</td>\n",
       "      <td>Finance</td>\n",
       "      <td>region_29</td>\n",
       "      <td>Bachelor's</td>\n",
       "      <td>m</td>\n",
       "      <td>sourcing</td>\n",
       "      <td>1</td>\n",
       "      <td>30</td>\n",
       "      <td>4.00</td>\n",
       "      <td>7</td>\n",
       "      <td>0</td>\n",
       "      <td>0</td>\n",
       "      <td>61</td>\n",
       "    </tr>\n",
       "  </tbody>\n",
       "</table>\n",
       "</div>"
      ],
      "text/plain": [
       "   employee_id         department     region   education gender  \\\n",
       "0         8724         Technology  region_26  Bachelor's      m   \n",
       "1        74430                 HR   region_4  Bachelor's      f   \n",
       "2        72255  Sales & Marketing  region_13  Bachelor's      m   \n",
       "3        38562        Procurement   region_2  Bachelor's      f   \n",
       "4        64486            Finance  region_29  Bachelor's      m   \n",
       "\n",
       "  recruitment_channel  no_of_trainings  age  previous_year_rating  \\\n",
       "0            sourcing                1   24                   NaN   \n",
       "1               other                1   31                  3.00   \n",
       "2               other                1   31                  1.00   \n",
       "3               other                3   31                  2.00   \n",
       "4            sourcing                1   30                  4.00   \n",
       "\n",
       "   length_of_service  KPIs_met >80%  awards_won?  avg_training_score  \n",
       "0                  1              1            0                  77  \n",
       "1                  5              0            0                  51  \n",
       "2                  4              0            0                  47  \n",
       "3                  9              0            0                  65  \n",
       "4                  7              0            0                  61  "
      ]
     },
     "execution_count": 7,
     "metadata": {},
     "output_type": "execute_result"
    }
   ],
   "source": [
    "df_teste.head()"
   ]
  },
  {
   "cell_type": "markdown",
   "metadata": {},
   "source": [
    "## Preparação dos Dados"
   ]
  },
  {
   "cell_type": "markdown",
   "metadata": {},
   "source": [
    "### Tratamento e Limpeza dos Dados\n",
    "\n",
    "Nesta seção, realizarei importantes etapas de tratamento de limpeza dos dados, tais como:\n",
    "\n",
    "- Renomeio de colunas para Português-BR, a fim de facilitar a manipulação e compreensão dos dados\n",
    "- Verificação de duplicidades\n",
    "- Analisar o tipo dos dados, para eventuais conversões (caso necessário)\n",
    "- Verificação de valores nulos e o seu devido tratamento"
   ]
  },
  {
   "cell_type": "markdown",
   "metadata": {},
   "source": [
    "#### Renomear Variáveis"
   ]
  },
  {
   "cell_type": "code",
   "execution_count": 8,
   "metadata": {},
   "outputs": [
    {
     "data": {
      "text/html": [
       "<div>\n",
       "<style scoped>\n",
       "    .dataframe tbody tr th:only-of-type {\n",
       "        vertical-align: middle;\n",
       "    }\n",
       "\n",
       "    .dataframe tbody tr th {\n",
       "        vertical-align: top;\n",
       "    }\n",
       "\n",
       "    .dataframe thead th {\n",
       "        text-align: right;\n",
       "    }\n",
       "</style>\n",
       "<table border=\"1\" class=\"dataframe\">\n",
       "  <thead>\n",
       "    <tr style=\"text-align: right;\">\n",
       "      <th></th>\n",
       "      <th>matricula</th>\n",
       "      <th>departamento</th>\n",
       "      <th>regiao</th>\n",
       "      <th>escolaridade</th>\n",
       "      <th>genero</th>\n",
       "      <th>canal_recrutamento</th>\n",
       "      <th>qtd_treinamentos</th>\n",
       "      <th>idade</th>\n",
       "      <th>avaliacao_anterior</th>\n",
       "      <th>tempo_empresa</th>\n",
       "      <th>kpis_atingidos</th>\n",
       "      <th>premios</th>\n",
       "      <th>media_treinamento</th>\n",
       "      <th>promovido</th>\n",
       "    </tr>\n",
       "  </thead>\n",
       "  <tbody>\n",
       "    <tr>\n",
       "      <th>0</th>\n",
       "      <td>65438</td>\n",
       "      <td>Sales &amp; Marketing</td>\n",
       "      <td>region_7</td>\n",
       "      <td>Master's &amp; above</td>\n",
       "      <td>f</td>\n",
       "      <td>sourcing</td>\n",
       "      <td>1</td>\n",
       "      <td>35</td>\n",
       "      <td>5.00</td>\n",
       "      <td>8</td>\n",
       "      <td>1</td>\n",
       "      <td>0</td>\n",
       "      <td>49</td>\n",
       "      <td>0</td>\n",
       "    </tr>\n",
       "  </tbody>\n",
       "</table>\n",
       "</div>"
      ],
      "text/plain": [
       "   matricula       departamento    regiao      escolaridade genero  \\\n",
       "0      65438  Sales & Marketing  region_7  Master's & above      f   \n",
       "\n",
       "  canal_recrutamento  qtd_treinamentos  idade  avaliacao_anterior  \\\n",
       "0           sourcing                 1     35                5.00   \n",
       "\n",
       "   tempo_empresa  kpis_atingidos  premios  media_treinamento  promovido  \n",
       "0              8               1        0                 49          0  "
      ]
     },
     "execution_count": 8,
     "metadata": {},
     "output_type": "execute_result"
    }
   ],
   "source": [
    "cols_treino = {\"employee_id\": \"matricula\", \"department\": \"departamento\", \"region\": \"regiao\", \"education\": \"escolaridade\",\n",
    "               \"gender\": \"genero\", \"recruitment_channel\": \"canal_recrutamento\", \"no_of_trainings\": \"qtd_treinamentos\",\n",
    "               \"age\": \"idade\", \"previous_year_rating\": \"avaliacao_anterior\", \"length_of_service\": \"tempo_empresa\",\n",
    "               \"KPIs_met >80%\": \"kpis_atingidos\", \"awards_won?\": \"premios\", \"avg_training_score\": \"media_treinamento\",\n",
    "               \"is_promoted\": \"promovido\"}\n",
    "\n",
    "cols_teste = {\"employee_id\": \"matricula\", \"department\": \"departamento\", \"region\": \"regiao\", \"education\": \"escolaridade\",\n",
    "              \"gender\": \"genero\", \"recruitment_channel\": \"canal_recrutamento\", \"no_of_trainings\": \"qtd_treinamentos\",\n",
    "              \"age\": \"idade\", \"previous_year_rating\": \"avaliacao_anterior\", \"length_of_service\": \"tempo_empresa\",\n",
    "              \"KPIs_met >80%\": \"kpis_atingidos\", \"awards_won?\": \"premios\", \"avg_training_score\": \"media_treinamento\"}\n",
    "\n",
    "df_treino = df_treino.rename(columns=cols_treino)\n",
    "df_teste = df_teste.rename(columns=cols_teste) # subconjunto dos nomes para o DF Teste não tem a variável target (promovido)\n",
    "df_treino.head(1)"
   ]
  },
  {
   "cell_type": "markdown",
   "metadata": {},
   "source": [
    "#### Duplicidade"
   ]
  },
  {
   "cell_type": "code",
   "execution_count": 9,
   "metadata": {},
   "outputs": [
    {
     "name": "stdout",
     "output_type": "stream",
     "text": [
      "Não há matrículas duplicadas\n"
     ]
    }
   ],
   "source": [
    "if df_treino['matricula'].duplicated().any():\n",
    "    print(\"Existem duplicados\")\n",
    "else:\n",
    "    print(\"Não há matrículas duplicadas\")"
   ]
  },
  {
   "cell_type": "markdown",
   "metadata": {},
   "source": [
    "#### Tipologia dos Dados"
   ]
  },
  {
   "cell_type": "code",
   "execution_count": 10,
   "metadata": {},
   "outputs": [],
   "source": [
    "def tratar_tipo_dados(df):\n",
    "    for col in df.columns:\n",
    "        try:\n",
    "            df[col] = pd.to_numeric(df[col])\n",
    "        except ValueError:\n",
    "            pass\n",
    "        except TypeError:\n",
    "            print(f\"Não foi possível converter a coluna {col} devido a um TypeError.\")\n",
    "        # Abaixo, converte colunas do tipo 'object' para 'category' se menos de 30% dos valores forem únicos\n",
    "        if df[col].dtype == 'object' and df[col].nunique() / len(df) < 0.3: \n",
    "            df[col] = df[col].astype('category')\n",
    "\n",
    "        # Temos variáveis que são binárias, neste caso, forçaremos a conversão delas para categóricas\n",
    "        lista_colunas = ['kpis_atingidos', 'premios', 'promovido']\n",
    "        for col in lista_colunas:\n",
    "            if col in df.columns:\n",
    "                df[col] = df[col].astype('category')\n",
    "    return df\n",
    "\n",
    "df_treino = tratar_tipo_dados(df_treino)"
   ]
  },
  {
   "cell_type": "code",
   "execution_count": 11,
   "metadata": {},
   "outputs": [
    {
     "name": "stdout",
     "output_type": "stream",
     "text": [
      "<class 'pandas.core.frame.DataFrame'>\n",
      "RangeIndex: 54808 entries, 0 to 54807\n",
      "Data columns (total 14 columns):\n",
      " #   Column              Non-Null Count  Dtype   \n",
      "---  ------              --------------  -----   \n",
      " 0   matricula           54808 non-null  int64   \n",
      " 1   departamento        54808 non-null  category\n",
      " 2   regiao              54808 non-null  category\n",
      " 3   escolaridade        52399 non-null  category\n",
      " 4   genero              54808 non-null  category\n",
      " 5   canal_recrutamento  54808 non-null  category\n",
      " 6   qtd_treinamentos    54808 non-null  int64   \n",
      " 7   idade               54808 non-null  int64   \n",
      " 8   avaliacao_anterior  50684 non-null  float64 \n",
      " 9   tempo_empresa       54808 non-null  int64   \n",
      " 10  kpis_atingidos      54808 non-null  category\n",
      " 11  premios             54808 non-null  category\n",
      " 12  media_treinamento   54808 non-null  int64   \n",
      " 13  promovido           54808 non-null  category\n",
      "dtypes: category(8), float64(1), int64(5)\n",
      "memory usage: 2.9 MB\n"
     ]
    }
   ],
   "source": [
    "df_treino.info()"
   ]
  },
  {
   "cell_type": "markdown",
   "metadata": {},
   "source": [
    "#### Nulos"
   ]
  },
  {
   "cell_type": "code",
   "execution_count": 12,
   "metadata": {},
   "outputs": [
    {
     "data": {
      "text/plain": [
       "escolaridade          2409\n",
       "avaliacao_anterior    4124\n",
       "dtype: int64"
      ]
     },
     "execution_count": 12,
     "metadata": {},
     "output_type": "execute_result"
    }
   ],
   "source": [
    "df_treino.isnull().sum()[df_treino.isnull().sum() > 0]"
   ]
  },
  {
   "cell_type": "code",
   "execution_count": 13,
   "metadata": {},
   "outputs": [
    {
     "data": {
      "text/plain": [
       "escolaridade\n",
       "Bachelor's          36669\n",
       "Master's & above    14925\n",
       "Below Secondary       805\n",
       "Name: count, dtype: int64"
      ]
     },
     "execution_count": 13,
     "metadata": {},
     "output_type": "execute_result"
    }
   ],
   "source": [
    "df_treino['escolaridade'].value_counts()"
   ]
  },
  {
   "cell_type": "code",
   "execution_count": 14,
   "metadata": {},
   "outputs": [
    {
     "data": {
      "text/plain": [
       "avaliacao_anterior\n",
       "3.00    18618\n",
       "5.00    11741\n",
       "4.00     9877\n",
       "1.00     6223\n",
       "2.00     4225\n",
       "Name: count, dtype: int64"
      ]
     },
     "execution_count": 14,
     "metadata": {},
     "output_type": "execute_result"
    }
   ],
   "source": [
    "df_treino['avaliacao_anterior'].value_counts()"
   ]
  },
  {
   "cell_type": "markdown",
   "metadata": {},
   "source": [
    "**Para este tratamento de dados, optarei pela imputação de valores fixos:**\n",
    "- Avaliação Anterior: para quem não teve nota computada para avaliação anterior, igualaremos à zero (0)\n",
    "- Escolaridade: para quem não tem registro sobre o nível de escolaridade, preencheremos com \"No_Education\""
   ]
  },
  {
   "cell_type": "code",
   "execution_count": 15,
   "metadata": {},
   "outputs": [],
   "source": [
    "df_treino['escolaridade'] = df_treino['escolaridade'].cat.add_categories(['No_Education'])\n",
    "df_treino['escolaridade'] = df_treino['escolaridade'].fillna('No_Education')\n",
    "df_treino['avaliacao_anterior'] = df_treino['avaliacao_anterior'].fillna(0)"
   ]
  },
  {
   "cell_type": "code",
   "execution_count": 16,
   "metadata": {},
   "outputs": [
    {
     "data": {
      "text/plain": [
       "Series([], dtype: int64)"
      ]
     },
     "execution_count": 16,
     "metadata": {},
     "output_type": "execute_result"
    }
   ],
   "source": [
    "df_treino.isnull().sum()[df_treino.isnull().sum() > 0]"
   ]
  },
  {
   "cell_type": "code",
   "execution_count": 17,
   "metadata": {},
   "outputs": [],
   "source": [
    "# Separar features e target do treino\n",
    "X = df_treino.drop([\"promovido\", \"matricula\"], axis=1)\n",
    "y = df_treino[\"promovido\"]"
   ]
  },
  {
   "cell_type": "code",
   "execution_count": 23,
   "metadata": {},
   "outputs": [],
   "source": [
    "from sklearn.pipeline import Pipeline\n",
    "from sklearn.compose import ColumnTransformer\n",
    "from sklearn.preprocessing import OneHotEncoder, StandardScaler\n",
    "from sklearn.impute import SimpleImputer\n",
    "from sklearn.preprocessing import FunctionTransformer\n",
    "\n",
    "# Função para tratar as variáveis específicas\n",
    "def tratar_variaveis(df):\n",
    "    df = df.copy()\n",
    "    # Escolaridade\n",
    "    if df['escolaridade'].dtype.name == 'category':\n",
    "        if 'No_Education' not in df['escolaridade'].cat.categories:\n",
    "            df['escolaridade'] = df['escolaridade'].cat.add_categories(['No_Education'])\n",
    "    df['escolaridade'] = df['escolaridade'].fillna('No_Education')\n",
    "    # Avaliação anterior\n",
    "    df['avaliacao_anterior'] = df['avaliacao_anterior'].fillna(0)\n",
    "    return df\n",
    "\n",
    "# Aqui atuamos com essa transformação específica\n",
    "tratamento_custom = FunctionTransformer(tratar_variaveis)\n",
    "\n",
    "# Separando Colunas categóricas e numéricas\n",
    "cat_features = X.select_dtypes(include=['object']).columns.tolist()\n",
    "num_features = X.select_dtypes(include=['int64', 'float64']).columns.tolist()\n",
    "\n",
    "# Pipelines numérico e categórico\n",
    "num_pipeline = Pipeline(steps=[\n",
    "    (\"imputer\", SimpleImputer(strategy=\"median\")),\n",
    "    (\"scaler\", StandardScaler())\n",
    "])\n",
    "\n",
    "cat_pipeline = Pipeline(steps=[\n",
    "    (\"imputer\", SimpleImputer(strategy=\"most_frequent\")),\n",
    "    (\"encoder\", OneHotEncoder(handle_unknown=\"ignore\"))\n",
    "])\n",
    "\n",
    "# Pré-processamento geral\n",
    "preprocessor = ColumnTransformer(transformers=[\n",
    "    (\"num\", num_pipeline, num_features),\n",
    "    (\"cat\", cat_pipeline, cat_features)\n",
    "])\n",
    "\n",
    "# Pipeline final com tratamento customizado antes\n",
    "pipeline_final = Pipeline(steps=[\n",
    "    (\"tratamento_custom\", tratamento_custom),\n",
    "    (\"preprocessor\", preprocessor)\n",
    "])\n",
    "\n",
    "# Exemplo de uso\n",
    "pipeline_final.fit(X, y)\n",
    "X_transformed = pipeline_final.transform(X)"
   ]
  },
  {
   "cell_type": "code",
   "execution_count": 27,
   "metadata": {
    "scrolled": true
   },
   "outputs": [
    {
     "name": "stdout",
     "output_type": "stream",
     "text": [
      "Regressão Logística - Recall médio (CV): 0.8160\n",
      "Árvore de Decisão - Recall médio (CV): 0.4505\n",
      "Random Forest - Recall médio (CV): 0.2948\n"
     ]
    }
   ],
   "source": [
    "modelos = {\n",
    "    \"Regressão Logística\": LogisticRegression(max_iter=1000, class_weight=\"balanced\"),\n",
    "    \"Árvore de Decisão\": DecisionTreeClassifier(random_state=42, class_weight=\"balanced\"),\n",
    "    \"Random Forest\": RandomForestClassifier(random_state=42, class_weight=\"balanced\")\n",
    "}\n",
    "\n",
    "for nome, modelo in modelos.items():\n",
    "    pipeline = Pipeline(steps=[\n",
    "        (\"preprocess\", preprocessor),\n",
    "        (\"model\", modelo)\n",
    "    ])\n",
    "    cv = StratifiedKFold(n_splits=5)\n",
    "    scores = cross_val_score(pipeline, X, y, cv=cv, scoring=\"recall\")\n",
    "    print(f\"{nome} - Recall médio (CV): {scores.mean():.4f}\")"
   ]
  },
  {
   "cell_type": "markdown",
   "metadata": {},
   "source": [
    "# Tentativa 2"
   ]
  },
  {
   "cell_type": "code",
   "execution_count": 31,
   "metadata": {},
   "outputs": [
    {
     "name": "stdout",
     "output_type": "stream",
     "text": [
      "Collecting imblearn\n",
      "  Downloading imblearn-0.0-py2.py3-none-any.whl.metadata (355 bytes)\n",
      "Collecting imbalanced-learn (from imblearn)\n",
      "  Downloading imbalanced_learn-0.13.0-py3-none-any.whl.metadata (8.8 kB)\n",
      "Requirement already satisfied: numpy<3,>=1.24.3 in c:\\users\\lr558eq\\onedrive - ey\\desktop\\tcc\\projeto_python\\env\\lib\\site-packages (from imbalanced-learn->imblearn) (2.2.6)\n",
      "Requirement already satisfied: scipy<2,>=1.10.1 in c:\\users\\lr558eq\\onedrive - ey\\desktop\\tcc\\projeto_python\\env\\lib\\site-packages (from imbalanced-learn->imblearn) (1.15.3)\n",
      "Requirement already satisfied: scikit-learn<2,>=1.3.2 in c:\\users\\lr558eq\\onedrive - ey\\desktop\\tcc\\projeto_python\\env\\lib\\site-packages (from imbalanced-learn->imblearn) (1.7.1)\n",
      "Collecting sklearn-compat<1,>=0.1 (from imbalanced-learn->imblearn)\n",
      "  Downloading sklearn_compat-0.1.3-py3-none-any.whl.metadata (18 kB)\n",
      "Requirement already satisfied: joblib<2,>=1.1.1 in c:\\users\\lr558eq\\onedrive - ey\\desktop\\tcc\\projeto_python\\env\\lib\\site-packages (from imbalanced-learn->imblearn) (1.5.1)\n",
      "Requirement already satisfied: threadpoolctl<4,>=2.0.0 in c:\\users\\lr558eq\\onedrive - ey\\desktop\\tcc\\projeto_python\\env\\lib\\site-packages (from imbalanced-learn->imblearn) (3.6.0)\n",
      "Collecting scikit-learn<2,>=1.3.2 (from imbalanced-learn->imblearn)\n",
      "  Downloading scikit_learn-1.6.1-cp310-cp310-win_amd64.whl.metadata (15 kB)\n",
      "Downloading imblearn-0.0-py2.py3-none-any.whl (1.9 kB)\n",
      "Downloading imbalanced_learn-0.13.0-py3-none-any.whl (238 kB)\n",
      "Downloading sklearn_compat-0.1.3-py3-none-any.whl (18 kB)\n",
      "Downloading scikit_learn-1.6.1-cp310-cp310-win_amd64.whl (11.1 MB)\n",
      "   ---------------------------------------- 0.0/11.1 MB ? eta -:--:--\n",
      "   --------------------------------- ------ 9.4/11.1 MB 45.2 MB/s eta 0:00:01\n",
      "   ---------------------------------------- 11.1/11.1 MB 36.6 MB/s  0:00:00\n",
      "Installing collected packages: scikit-learn, sklearn-compat, imbalanced-learn, imblearn\n",
      "\n",
      "  Attempting uninstall: scikit-learn\n",
      "\n",
      "    Found existing installation: scikit-learn 1.7.1\n",
      "\n",
      "   ---------------------------------------- 0/4 [scikit-learn]\n",
      "   ---------------------------------------- 0/4 [scikit-learn]\n",
      "   ---------------------------------------- 0/4 [scikit-learn]\n",
      "   ---------------------------------------- 0/4 [scikit-learn]\n",
      "   ---------------------------------------- 0/4 [scikit-learn]\n",
      "   ---------------------------------------- 0/4 [scikit-learn]\n",
      "   ---------------------------------------- 0/4 [scikit-learn]\n",
      "   ---------------------------------------- 0/4 [scikit-learn]\n",
      "   ---------------------------------------- 0/4 [scikit-learn]\n",
      "   ---------------------------------------- 0/4 [scikit-learn]\n",
      "   ---------------------------------------- 0/4 [scikit-learn]\n",
      "   ---------------------------------------- 0/4 [scikit-learn]\n",
      "   ---------------------------------------- 0/4 [scikit-learn]\n",
      "   ---------------------------------------- 0/4 [scikit-learn]\n",
      "   ---------------------------------------- 0/4 [scikit-learn]\n",
      "   ---------------------------------------- 0/4 [scikit-learn]\n",
      "   ---------------------------------------- 0/4 [scikit-learn]\n",
      "   ---------------------------------------- 0/4 [scikit-learn]\n",
      "   ---------------------------------------- 0/4 [scikit-learn]\n",
      "    Uninstalling scikit-learn-1.7.1:\n",
      "   ---------------------------------------- 0/4 [scikit-learn]\n",
      "   ---------------------------------------- 0/4 [scikit-learn]\n",
      "   ---------------------------------------- 0/4 [scikit-learn]\n",
      "      Successfully uninstalled scikit-learn-1.7.1\n",
      "   ---------------------------------------- 0/4 [scikit-learn]\n",
      "   ---------------------------------------- 0/4 [scikit-learn]\n",
      "   ---------------------------------------- 0/4 [scikit-learn]\n",
      "   ---------------------------------------- 0/4 [scikit-learn]\n",
      "   ---------------------------------------- 0/4 [scikit-learn]\n",
      "   ---------------------------------------- 0/4 [scikit-learn]\n",
      "   ---------------------------------------- 0/4 [scikit-learn]\n",
      "   ---------------------------------------- 0/4 [scikit-learn]\n",
      "   ---------------------------------------- 0/4 [scikit-learn]\n",
      "   ---------------------------------------- 0/4 [scikit-learn]\n",
      "   ---------------------------------------- 0/4 [scikit-learn]\n",
      "   ---------------------------------------- 0/4 [scikit-learn]\n",
      "   ---------------------------------------- 0/4 [scikit-learn]\n",
      "   ---------------------------------------- 0/4 [scikit-learn]\n",
      "   ---------------------------------------- 0/4 [scikit-learn]\n",
      "   ---------------------------------------- 0/4 [scikit-learn]\n",
      "   ---------------------------------------- 0/4 [scikit-learn]\n",
      "   ---------------------------------------- 0/4 [scikit-learn]\n",
      "   ---------------------------------------- 0/4 [scikit-learn]\n",
      "   ---------------------------------------- 0/4 [scikit-learn]\n",
      "   ---------------------------------------- 0/4 [scikit-learn]\n",
      "   ---------------------------------------- 0/4 [scikit-learn]\n",
      "   ---------------------------------------- 0/4 [scikit-learn]\n",
      "   ---------------------------------------- 0/4 [scikit-learn]\n",
      "   ---------------------------------------- 0/4 [scikit-learn]\n",
      "   ---------------------------------------- 0/4 [scikit-learn]\n",
      "   ---------------------------------------- 0/4 [scikit-learn]\n",
      "   ---------------------------------------- 0/4 [scikit-learn]\n",
      "   ---------------------------------------- 0/4 [scikit-learn]\n",
      "   ---------------------------------------- 0/4 [scikit-learn]\n",
      "   ---------------------------------------- 0/4 [scikit-learn]\n",
      "   ---------------------------------------- 0/4 [scikit-learn]\n",
      "   ---------------------------------------- 0/4 [scikit-learn]\n",
      "   ---------------------------------------- 0/4 [scikit-learn]\n",
      "   ---------------------------------------- 0/4 [scikit-learn]\n",
      "   ---------------------------------------- 0/4 [scikit-learn]\n",
      "   ---------------------------------------- 0/4 [scikit-learn]\n",
      "   ---------------------------------------- 0/4 [scikit-learn]\n",
      "   ---------------------------------------- 0/4 [scikit-learn]\n",
      "   ---------------------------------------- 0/4 [scikit-learn]\n",
      "   ---------------------------------------- 0/4 [scikit-learn]\n",
      "   ---------------------------------------- 0/4 [scikit-learn]\n",
      "   ---------------------------------------- 0/4 [scikit-learn]\n",
      "   ---------------------------------------- 0/4 [scikit-learn]\n",
      "   ---------------------------------------- 0/4 [scikit-learn]\n",
      "   ---------------------------------------- 0/4 [scikit-learn]\n",
      "   ---------------------------------------- 0/4 [scikit-learn]\n",
      "   ---------------------------------------- 0/4 [scikit-learn]\n",
      "   ---------------------------------------- 0/4 [scikit-learn]\n",
      "   ---------------------------------------- 0/4 [scikit-learn]\n",
      "   ---------------------------------------- 0/4 [scikit-learn]\n",
      "   ---------------------------------------- 0/4 [scikit-learn]\n",
      "   ---------------------------------------- 0/4 [scikit-learn]\n",
      "   ---------------------------------------- 0/4 [scikit-learn]\n",
      "   ---------------------------------------- 0/4 [scikit-learn]\n",
      "   ---------------------------------------- 0/4 [scikit-learn]\n",
      "   ---------------------------------------- 0/4 [scikit-learn]\n",
      "   ---------------------------------------- 0/4 [scikit-learn]\n",
      "   ---------------------------------------- 0/4 [scikit-learn]\n",
      "   ---------------------------------------- 0/4 [scikit-learn]\n",
      "   ---------------------------------------- 0/4 [scikit-learn]\n",
      "   ---------------------------------------- 0/4 [scikit-learn]\n",
      "   ---------------------------------------- 0/4 [scikit-learn]\n",
      "   ---------------------------------------- 0/4 [scikit-learn]\n",
      "   ---------------------------------------- 0/4 [scikit-learn]\n",
      "   ---------------------------------------- 0/4 [scikit-learn]\n",
      "   ---------------------------------------- 0/4 [scikit-learn]\n",
      "   ---------------------------------------- 0/4 [scikit-learn]\n",
      "   ---------------------------------------- 0/4 [scikit-learn]\n",
      "   ---------------------------------------- 0/4 [scikit-learn]\n",
      "   ---------------------------------------- 0/4 [scikit-learn]\n",
      "   ---------------------------------------- 0/4 [scikit-learn]\n",
      "   ---------------------------------------- 0/4 [scikit-learn]\n",
      "   ---------------------------------------- 0/4 [scikit-learn]\n",
      "   ---------------------------------------- 0/4 [scikit-learn]\n",
      "   ---------------------------------------- 0/4 [scikit-learn]\n",
      "   ---------------------------------------- 0/4 [scikit-learn]\n",
      "   ---------------------------------------- 0/4 [scikit-learn]\n",
      "   ---------------------------------------- 0/4 [scikit-learn]\n",
      "   ---------------------------------------- 0/4 [scikit-learn]\n",
      "   ---------------------------------------- 0/4 [scikit-learn]\n",
      "   ---------------------------------------- 0/4 [scikit-learn]\n",
      "   ---------------------------------------- 0/4 [scikit-learn]\n",
      "   ---------------------------------------- 0/4 [scikit-learn]\n",
      "   ---------------------------------------- 0/4 [scikit-learn]\n",
      "   ---------------------------------------- 0/4 [scikit-learn]\n",
      "   ---------------------------------------- 0/4 [scikit-learn]\n",
      "   ---------------------------------------- 0/4 [scikit-learn]\n",
      "   ---------------------------------------- 0/4 [scikit-learn]\n",
      "   ---------------------------------------- 0/4 [scikit-learn]\n",
      "   ---------------------------------------- 0/4 [scikit-learn]\n",
      "   ---------------------------------------- 0/4 [scikit-learn]\n",
      "   ---------------------------------------- 0/4 [scikit-learn]\n",
      "   ---------------------------------------- 0/4 [scikit-learn]\n",
      "   ---------------------------------------- 0/4 [scikit-learn]\n",
      "   ---------------------------------------- 0/4 [scikit-learn]\n",
      "   ---------------------------------------- 0/4 [scikit-learn]\n",
      "   ---------------------------------------- 0/4 [scikit-learn]\n",
      "   ---------------------------------------- 0/4 [scikit-learn]\n",
      "   ---------------------------------------- 0/4 [scikit-learn]\n",
      "   ---------------------------------------- 0/4 [scikit-learn]\n",
      "   ---------------------------------------- 0/4 [scikit-learn]\n",
      "   ---------------------------------------- 0/4 [scikit-learn]\n",
      "   ---------------------------------------- 0/4 [scikit-learn]\n",
      "   ---------------------------------------- 0/4 [scikit-learn]\n",
      "   ---------------------------------------- 0/4 [scikit-learn]\n",
      "   ---------------------------------------- 0/4 [scikit-learn]\n",
      "   ---------------------------------------- 0/4 [scikit-learn]\n",
      "   ---------------------------------------- 0/4 [scikit-learn]\n",
      "   ---------------------------------------- 0/4 [scikit-learn]\n",
      "   ---------------------------------------- 0/4 [scikit-learn]\n",
      "   ---------------------------------------- 0/4 [scikit-learn]\n",
      "   ---------------------------------------- 0/4 [scikit-learn]\n",
      "   ---------------------------------------- 0/4 [scikit-learn]\n",
      "   ---------------------------------------- 0/4 [scikit-learn]\n",
      "   ---------------------------------------- 0/4 [scikit-learn]\n",
      "   ---------------------------------------- 0/4 [scikit-learn]\n",
      "   ---------------------------------------- 0/4 [scikit-learn]\n",
      "   ---------------------------------------- 0/4 [scikit-learn]\n",
      "   ---------------------------------------- 0/4 [scikit-learn]\n",
      "   ---------------------------------------- 0/4 [scikit-learn]\n",
      "   ---------------------------------------- 0/4 [scikit-learn]\n",
      "   ---------------------------------------- 0/4 [scikit-learn]\n",
      "   ---------------------------------------- 0/4 [scikit-learn]\n",
      "   ---------------------------------------- 0/4 [scikit-learn]\n",
      "   ---------------------------------------- 0/4 [scikit-learn]\n",
      "   ---------------------------------------- 0/4 [scikit-learn]\n",
      "   ---------------------------------------- 0/4 [scikit-learn]\n",
      "   ---------------------------------------- 0/4 [scikit-learn]\n",
      "   ---------------------------------------- 0/4 [scikit-learn]\n",
      "   ---------------------------------------- 0/4 [scikit-learn]\n",
      "   ---------------------------------------- 0/4 [scikit-learn]\n",
      "   ---------------------------------------- 0/4 [scikit-learn]\n",
      "   ---------------------------------------- 0/4 [scikit-learn]\n",
      "   ---------------------------------------- 0/4 [scikit-learn]\n",
      "   ---------------------------------------- 0/4 [scikit-learn]\n",
      "   ---------------------------------------- 0/4 [scikit-learn]\n",
      "   ---------------------------------------- 0/4 [scikit-learn]\n",
      "   ---------------------------------------- 0/4 [scikit-learn]\n",
      "   ---------------------------------------- 0/4 [scikit-learn]\n",
      "   ---------------------------------------- 0/4 [scikit-learn]\n",
      "   ---------------------------------------- 0/4 [scikit-learn]\n",
      "   ---------------------------------------- 0/4 [scikit-learn]\n",
      "   ---------------------------------------- 0/4 [scikit-learn]\n",
      "   ---------------------------------------- 0/4 [scikit-learn]\n",
      "   ---------------------------------------- 0/4 [scikit-learn]\n",
      "   ---------------------------------------- 0/4 [scikit-learn]\n",
      "   ---------------------------------------- 0/4 [scikit-learn]\n",
      "   ---------------------------------------- 0/4 [scikit-learn]\n",
      "   ---------------------------------------- 0/4 [scikit-learn]\n",
      "   ---------------------------------------- 0/4 [scikit-learn]\n",
      "   ---------------------------------------- 0/4 [scikit-learn]\n",
      "   ---------------------------------------- 0/4 [scikit-learn]\n",
      "   ---------------------------------------- 0/4 [scikit-learn]\n",
      "   ---------------------------------------- 0/4 [scikit-learn]\n",
      "   ---------------------------------------- 0/4 [scikit-learn]\n",
      "   ---------------------------------------- 0/4 [scikit-learn]\n",
      "   ---------------------------------------- 0/4 [scikit-learn]\n",
      "   ---------------------------------------- 0/4 [scikit-learn]\n",
      "   ---------------------------------------- 0/4 [scikit-learn]\n",
      "   ---------------------------------------- 0/4 [scikit-learn]\n",
      "   ---------------------------------------- 0/4 [scikit-learn]\n",
      "   ---------------------------------------- 0/4 [scikit-learn]\n",
      "   ---------------------------------------- 0/4 [scikit-learn]\n",
      "   ---------------------------------------- 0/4 [scikit-learn]\n",
      "   ---------------------------------------- 0/4 [scikit-learn]\n",
      "   ---------------------------------------- 0/4 [scikit-learn]\n",
      "   ---------------------------------------- 0/4 [scikit-learn]\n",
      "   ---------------------------------------- 0/4 [scikit-learn]\n",
      "   ---------------------------------------- 0/4 [scikit-learn]\n",
      "   ---------------------------------------- 0/4 [scikit-learn]\n",
      "   ---------------------------------------- 0/4 [scikit-learn]\n",
      "   ---------------------------------------- 0/4 [scikit-learn]\n",
      "   ---------------------------------------- 0/4 [scikit-learn]\n",
      "   ---------------------------------------- 0/4 [scikit-learn]\n",
      "   ---------------------------------------- 0/4 [scikit-learn]\n",
      "   ---------------------------------------- 0/4 [scikit-learn]\n",
      "   ---------------------------------------- 0/4 [scikit-learn]\n",
      "   ---------------------------------------- 0/4 [scikit-learn]\n",
      "   ---------------------------------------- 0/4 [scikit-learn]\n",
      "   ---------------------------------------- 0/4 [scikit-learn]\n",
      "   ---------------------------------------- 0/4 [scikit-learn]\n",
      "   ---------------------------------------- 0/4 [scikit-learn]\n",
      "   ---------------------------------------- 0/4 [scikit-learn]\n",
      "   ---------------------------------------- 0/4 [scikit-learn]\n",
      "   ---------------------------------------- 0/4 [scikit-learn]\n",
      "   ---------------------------------------- 0/4 [scikit-learn]\n",
      "   ---------------------------------------- 0/4 [scikit-learn]\n",
      "   ---------------------------------------- 0/4 [scikit-learn]\n",
      "   ---------------------------------------- 0/4 [scikit-learn]\n",
      "   ---------------------------------------- 0/4 [scikit-learn]\n",
      "   ---------------------------------------- 0/4 [scikit-learn]\n",
      "   ---------------------------------------- 0/4 [scikit-learn]\n",
      "   ---------------------------------------- 0/4 [scikit-learn]\n",
      "   ---------------------------------------- 0/4 [scikit-learn]\n",
      "   ---------------------------------------- 0/4 [scikit-learn]\n",
      "   ---------------------------------------- 0/4 [scikit-learn]\n",
      "   ---------------------------------------- 0/4 [scikit-learn]\n",
      "   ---------------------------------------- 0/4 [scikit-learn]\n",
      "   ---------------------------------------- 0/4 [scikit-learn]\n",
      "   ---------------------------------------- 0/4 [scikit-learn]\n",
      "   ---------------------------------------- 0/4 [scikit-learn]\n",
      "   ---------------------------------------- 0/4 [scikit-learn]\n",
      "   ---------------------------------------- 0/4 [scikit-learn]\n",
      "   ---------------------------------------- 0/4 [scikit-learn]\n",
      "   ---------------------------------------- 0/4 [scikit-learn]\n",
      "   ---------------------------------------- 0/4 [scikit-learn]\n",
      "   ---------------------------------------- 0/4 [scikit-learn]\n",
      "   ---------------------------------------- 0/4 [scikit-learn]\n",
      "   ---------------------------------------- 0/4 [scikit-learn]\n",
      "   ---------------------------------------- 0/4 [scikit-learn]\n",
      "   ---------------------------------------- 0/4 [scikit-learn]\n",
      "   ---------------------------------------- 0/4 [scikit-learn]\n",
      "   ---------------------------------------- 0/4 [scikit-learn]\n",
      "   ---------------------------------------- 0/4 [scikit-learn]\n",
      "   ---------------------------------------- 0/4 [scikit-learn]\n",
      "   ---------------------------------------- 0/4 [scikit-learn]\n",
      "   ---------------------------------------- 0/4 [scikit-learn]\n",
      "   ---------------------------------------- 0/4 [scikit-learn]\n",
      "   ---------------------------------------- 0/4 [scikit-learn]\n",
      "   ---------------------------------------- 0/4 [scikit-learn]\n",
      "   ---------------------------------------- 0/4 [scikit-learn]\n",
      "   ---------------------------------------- 0/4 [scikit-learn]\n",
      "   ---------------------------------------- 0/4 [scikit-learn]\n",
      "   ---------------------------------------- 0/4 [scikit-learn]\n",
      "   ---------------------------------------- 0/4 [scikit-learn]\n",
      "   ---------------------------------------- 0/4 [scikit-learn]\n",
      "   ---------------------------------------- 0/4 [scikit-learn]\n",
      "   ---------------------------------------- 0/4 [scikit-learn]\n",
      "   ---------------------------------------- 0/4 [scikit-learn]\n",
      "   ---------- ----------------------------- 1/4 [sklearn-compat]\n",
      "   ---------- ----------------------------- 1/4 [sklearn-compat]\n",
      "   ---------- ----------------------------- 1/4 [sklearn-compat]\n",
      "   ---------- ----------------------------- 1/4 [sklearn-compat]\n",
      "   -------------------- ------------------- 2/4 [imbalanced-learn]\n",
      "   -------------------- ------------------- 2/4 [imbalanced-learn]\n",
      "   -------------------- ------------------- 2/4 [imbalanced-learn]\n",
      "   -------------------- ------------------- 2/4 [imbalanced-learn]\n",
      "   -------------------- ------------------- 2/4 [imbalanced-learn]\n",
      "   -------------------- ------------------- 2/4 [imbalanced-learn]\n",
      "   -------------------- ------------------- 2/4 [imbalanced-learn]\n",
      "   -------------------- ------------------- 2/4 [imbalanced-learn]\n",
      "   -------------------- ------------------- 2/4 [imbalanced-learn]\n",
      "   -------------------- ------------------- 2/4 [imbalanced-learn]\n",
      "   -------------------- ------------------- 2/4 [imbalanced-learn]\n",
      "   -------------------- ------------------- 2/4 [imbalanced-learn]\n",
      "   -------------------- ------------------- 2/4 [imbalanced-learn]\n",
      "   -------------------- ------------------- 2/4 [imbalanced-learn]\n",
      "   -------------------- ------------------- 2/4 [imbalanced-learn]\n",
      "   -------------------- ------------------- 2/4 [imbalanced-learn]\n",
      "   -------------------- ------------------- 2/4 [imbalanced-learn]\n",
      "   -------------------- ------------------- 2/4 [imbalanced-learn]\n",
      "   -------------------- ------------------- 2/4 [imbalanced-learn]\n",
      "   -------------------- ------------------- 2/4 [imbalanced-learn]\n",
      "   -------------------- ------------------- 2/4 [imbalanced-learn]\n",
      "   -------------------- ------------------- 2/4 [imbalanced-learn]\n",
      "   -------------------- ------------------- 2/4 [imbalanced-learn]\n",
      "   -------------------- ------------------- 2/4 [imbalanced-learn]\n",
      "   -------------------- ------------------- 2/4 [imbalanced-learn]\n",
      "   -------------------- ------------------- 2/4 [imbalanced-learn]\n",
      "   -------------------- ------------------- 2/4 [imbalanced-learn]\n",
      "   ------------------------------ --------- 3/4 [imblearn]\n",
      "   ---------------------------------------- 4/4 [imblearn]\n",
      "\n",
      "Successfully installed imbalanced-learn-0.13.0 imblearn-0.0 scikit-learn-1.6.1 sklearn-compat-0.1.3\n"
     ]
    },
    {
     "name": "stderr",
     "output_type": "stream",
     "text": [
      "  WARNING: Failed to remove contents in a temporary directory 'C:\\Users\\LR558EQ\\OneDrive - EY\\Desktop\\TCC\\projeto_python\\env\\Lib\\site-packages\\~klearn'.\n",
      "  You can safely remove it manually.\n"
     ]
    }
   ],
   "source": [
    "!pip install imblearn"
   ]
  },
  {
   "cell_type": "code",
   "execution_count": 29,
   "metadata": {},
   "outputs": [
    {
     "ename": "ModuleNotFoundError",
     "evalue": "No module named 'imblearn'",
     "output_type": "error",
     "traceback": [
      "\u001b[1;31m---------------------------------------------------------------------------\u001b[0m",
      "\u001b[1;31mModuleNotFoundError\u001b[0m                       Traceback (most recent call last)",
      "Cell \u001b[1;32mIn[29], line 6\u001b[0m\n\u001b[0;32m      4\u001b[0m \u001b[38;5;28;01mfrom\u001b[39;00m\u001b[38;5;250m \u001b[39m\u001b[38;5;21;01msklearn\u001b[39;00m\u001b[38;5;21;01m.\u001b[39;00m\u001b[38;5;21;01mpreprocessing\u001b[39;00m\u001b[38;5;250m \u001b[39m\u001b[38;5;28;01mimport\u001b[39;00m MinMaxScaler, StandardScaler\n\u001b[0;32m      5\u001b[0m \u001b[38;5;28;01mfrom\u001b[39;00m\u001b[38;5;250m \u001b[39m\u001b[38;5;21;01msklearn\u001b[39;00m\u001b[38;5;21;01m.\u001b[39;00m\u001b[38;5;21;01mpipeline\u001b[39;00m\u001b[38;5;250m \u001b[39m\u001b[38;5;28;01mimport\u001b[39;00m Pipeline, make_pipeline\n\u001b[1;32m----> 6\u001b[0m \u001b[38;5;28;01mfrom\u001b[39;00m\u001b[38;5;250m \u001b[39m\u001b[38;5;21;01mimblearn\u001b[39;00m\u001b[38;5;21;01m.\u001b[39;00m\u001b[38;5;21;01munder_sampling\u001b[39;00m\u001b[38;5;250m \u001b[39m\u001b[38;5;28;01mimport\u001b[39;00m RandomUnderSampler\n\u001b[0;32m      7\u001b[0m \u001b[38;5;28;01mfrom\u001b[39;00m\u001b[38;5;250m \u001b[39m\u001b[38;5;21;01msklearn\u001b[39;00m\u001b[38;5;21;01m.\u001b[39;00m\u001b[38;5;21;01mmodel_selection\u001b[39;00m\u001b[38;5;250m \u001b[39m\u001b[38;5;28;01mimport\u001b[39;00m GridSearchCV\n\u001b[0;32m      8\u001b[0m \u001b[38;5;28;01mfrom\u001b[39;00m\u001b[38;5;250m \u001b[39m\u001b[38;5;21;01msklearn\u001b[39;00m\u001b[38;5;21;01m.\u001b[39;00m\u001b[38;5;21;01mmodel_selection\u001b[39;00m\u001b[38;5;250m \u001b[39m\u001b[38;5;28;01mimport\u001b[39;00m cross_val_score\n",
      "\u001b[1;31mModuleNotFoundError\u001b[0m: No module named 'imblearn'"
     ]
    }
   ],
   "source": [
    "from sklearn.tree import DecisionTreeClassifier\n",
    "from sklearn.svm import SVC\n",
    "from sklearn.neural_network import MLPClassifier\n",
    "from sklearn.preprocessing import MinMaxScaler, StandardScaler\n",
    "from sklearn.pipeline import Pipeline, make_pipeline\n",
    "from imblearn.under_sampling import RandomUnderSampler\n",
    "from sklearn.model_selection import GridSearchCV\n",
    "from sklearn.model_selection import cross_val_score\n",
    "from sklearn.feature_selection import RFE\n",
    "from collections import Counter\n",
    "from sklearn.metrics import accuracy_score, confusion_matrix, classification_report,ConfusionMatrixDisplay, recall_score\n",
    "from sklearn import metrics\n",
    "from imblearn.over_sampling import RandomOverSampler\n",
    "from sklearn.metrics import auc, precision_recall_curve, fbeta_score\n",
    "import optuna\n",
    "from pickle import dump"
   ]
  },
  {
   "cell_type": "code",
   "execution_count": 30,
   "metadata": {},
   "outputs": [],
   "source": [
    "# Função SCORE\n",
    "\n",
    "pd.options.display.float_format = '{:.5f}'.format\n",
    "pd.set_option('display.max_columns', None)\n",
    "\n",
    "def print_score(real,pred,proba):\n",
    "    df_score = pd.DataFrame(classification_report(real, pred, output_dict=True))\n",
    "    recall = recall_score(y_test, y_pred)\n",
    "    print(f'\\nRecall: {recall}',flush=True)\n",
    "    precision_curve, recall_curve, _ = precision_recall_curve(real, proba)\n",
    "    aucpr = auc(recall_curve, precision_curve)\n",
    "    print(f'AUCPR: {aucpr}',flush=True)\n",
    "    f2_score = fbeta_score(real, pred.round(), beta=2)\n",
    "    print(f'F2 Score: {f2_score}',flush=True) \n",
    "    #print(df_score, flush=True)\n",
    "    cm = confusion_matrix\n",
    "    cm = confusion_matrix(real, pred)\n",
    "    cmd = ConfusionMatrixDisplay(cm, display_labels=['não-promovido','promovido'])\n",
    "    cmd.plot()\n",
    "    return df_score"
   ]
  },
  {
   "cell_type": "code",
   "execution_count": 28,
   "metadata": {},
   "outputs": [
    {
     "ename": "FileNotFoundError",
     "evalue": "[Errno 2] No such file or directory: 'X_train_ng_custom.csv'",
     "output_type": "error",
     "traceback": [
      "\u001b[1;31m---------------------------------------------------------------------------\u001b[0m",
      "\u001b[1;31mFileNotFoundError\u001b[0m                         Traceback (most recent call last)",
      "Cell \u001b[1;32mIn[28], line 32\u001b[0m\n\u001b[0;32m     28\u001b[0m     \u001b[38;5;28;01mreturn\u001b[39;00m score\u001b[38;5;241m.\u001b[39mmean()\n\u001b[0;32m     30\u001b[0m \u001b[38;5;28;01mif\u001b[39;00m \u001b[38;5;18m__name__\u001b[39m \u001b[38;5;241m==\u001b[39m \u001b[38;5;124m'\u001b[39m\u001b[38;5;124m__main__\u001b[39m\u001b[38;5;124m'\u001b[39m:\n\u001b[1;32m---> 32\u001b[0m     X_train \u001b[38;5;241m=\u001b[39m \u001b[43mpd\u001b[49m\u001b[38;5;241;43m.\u001b[39;49m\u001b[43mread_csv\u001b[49m\u001b[43m(\u001b[49m\u001b[38;5;124;43m\"\u001b[39;49m\u001b[38;5;124;43mX_train_ng_custom.csv\u001b[39;49m\u001b[38;5;124;43m\"\u001b[39;49m\u001b[43m,\u001b[49m\u001b[43m \u001b[49m\u001b[43mheader\u001b[49m\u001b[38;5;241;43m=\u001b[39;49m\u001b[38;5;241;43m0\u001b[39;49m\u001b[43m)\u001b[49m\n\u001b[0;32m     33\u001b[0m     X_test \u001b[38;5;241m=\u001b[39m pd\u001b[38;5;241m.\u001b[39mread_csv(\u001b[38;5;124m\"\u001b[39m\u001b[38;5;124mX_test_ng_custom.csv\u001b[39m\u001b[38;5;124m\"\u001b[39m, header\u001b[38;5;241m=\u001b[39m\u001b[38;5;241m0\u001b[39m)\n\u001b[0;32m     35\u001b[0m     y_train \u001b[38;5;241m=\u001b[39m X_train[\u001b[38;5;124m'\u001b[39m\u001b[38;5;124mIN_CMST_FUN\u001b[39m\u001b[38;5;124m'\u001b[39m]\u001b[38;5;241m.\u001b[39mreset_index(drop\u001b[38;5;241m=\u001b[39m\u001b[38;5;28;01mTrue\u001b[39;00m)\n",
      "File \u001b[1;32mc:\\Users\\LR558EQ\\OneDrive - EY\\Desktop\\TCC\\projeto_python\\env\\lib\\site-packages\\pandas\\io\\parsers\\readers.py:1026\u001b[0m, in \u001b[0;36mread_csv\u001b[1;34m(filepath_or_buffer, sep, delimiter, header, names, index_col, usecols, dtype, engine, converters, true_values, false_values, skipinitialspace, skiprows, skipfooter, nrows, na_values, keep_default_na, na_filter, verbose, skip_blank_lines, parse_dates, infer_datetime_format, keep_date_col, date_parser, date_format, dayfirst, cache_dates, iterator, chunksize, compression, thousands, decimal, lineterminator, quotechar, quoting, doublequote, escapechar, comment, encoding, encoding_errors, dialect, on_bad_lines, delim_whitespace, low_memory, memory_map, float_precision, storage_options, dtype_backend)\u001b[0m\n\u001b[0;32m   1013\u001b[0m kwds_defaults \u001b[38;5;241m=\u001b[39m _refine_defaults_read(\n\u001b[0;32m   1014\u001b[0m     dialect,\n\u001b[0;32m   1015\u001b[0m     delimiter,\n\u001b[1;32m   (...)\u001b[0m\n\u001b[0;32m   1022\u001b[0m     dtype_backend\u001b[38;5;241m=\u001b[39mdtype_backend,\n\u001b[0;32m   1023\u001b[0m )\n\u001b[0;32m   1024\u001b[0m kwds\u001b[38;5;241m.\u001b[39mupdate(kwds_defaults)\n\u001b[1;32m-> 1026\u001b[0m \u001b[38;5;28;01mreturn\u001b[39;00m \u001b[43m_read\u001b[49m\u001b[43m(\u001b[49m\u001b[43mfilepath_or_buffer\u001b[49m\u001b[43m,\u001b[49m\u001b[43m \u001b[49m\u001b[43mkwds\u001b[49m\u001b[43m)\u001b[49m\n",
      "File \u001b[1;32mc:\\Users\\LR558EQ\\OneDrive - EY\\Desktop\\TCC\\projeto_python\\env\\lib\\site-packages\\pandas\\io\\parsers\\readers.py:620\u001b[0m, in \u001b[0;36m_read\u001b[1;34m(filepath_or_buffer, kwds)\u001b[0m\n\u001b[0;32m    617\u001b[0m _validate_names(kwds\u001b[38;5;241m.\u001b[39mget(\u001b[38;5;124m\"\u001b[39m\u001b[38;5;124mnames\u001b[39m\u001b[38;5;124m\"\u001b[39m, \u001b[38;5;28;01mNone\u001b[39;00m))\n\u001b[0;32m    619\u001b[0m \u001b[38;5;66;03m# Create the parser.\u001b[39;00m\n\u001b[1;32m--> 620\u001b[0m parser \u001b[38;5;241m=\u001b[39m TextFileReader(filepath_or_buffer, \u001b[38;5;241m*\u001b[39m\u001b[38;5;241m*\u001b[39mkwds)\n\u001b[0;32m    622\u001b[0m \u001b[38;5;28;01mif\u001b[39;00m chunksize \u001b[38;5;129;01mor\u001b[39;00m iterator:\n\u001b[0;32m    623\u001b[0m     \u001b[38;5;28;01mreturn\u001b[39;00m parser\n",
      "File \u001b[1;32mc:\\Users\\LR558EQ\\OneDrive - EY\\Desktop\\TCC\\projeto_python\\env\\lib\\site-packages\\pandas\\io\\parsers\\readers.py:1620\u001b[0m, in \u001b[0;36mTextFileReader.__init__\u001b[1;34m(self, f, engine, **kwds)\u001b[0m\n\u001b[0;32m   1617\u001b[0m     \u001b[38;5;28mself\u001b[39m\u001b[38;5;241m.\u001b[39moptions[\u001b[38;5;124m\"\u001b[39m\u001b[38;5;124mhas_index_names\u001b[39m\u001b[38;5;124m\"\u001b[39m] \u001b[38;5;241m=\u001b[39m kwds[\u001b[38;5;124m\"\u001b[39m\u001b[38;5;124mhas_index_names\u001b[39m\u001b[38;5;124m\"\u001b[39m]\n\u001b[0;32m   1619\u001b[0m \u001b[38;5;28mself\u001b[39m\u001b[38;5;241m.\u001b[39mhandles: IOHandles \u001b[38;5;241m|\u001b[39m \u001b[38;5;28;01mNone\u001b[39;00m \u001b[38;5;241m=\u001b[39m \u001b[38;5;28;01mNone\u001b[39;00m\n\u001b[1;32m-> 1620\u001b[0m \u001b[38;5;28mself\u001b[39m\u001b[38;5;241m.\u001b[39m_engine \u001b[38;5;241m=\u001b[39m \u001b[38;5;28;43mself\u001b[39;49m\u001b[38;5;241;43m.\u001b[39;49m\u001b[43m_make_engine\u001b[49m\u001b[43m(\u001b[49m\u001b[43mf\u001b[49m\u001b[43m,\u001b[49m\u001b[43m \u001b[49m\u001b[38;5;28;43mself\u001b[39;49m\u001b[38;5;241;43m.\u001b[39;49m\u001b[43mengine\u001b[49m\u001b[43m)\u001b[49m\n",
      "File \u001b[1;32mc:\\Users\\LR558EQ\\OneDrive - EY\\Desktop\\TCC\\projeto_python\\env\\lib\\site-packages\\pandas\\io\\parsers\\readers.py:1880\u001b[0m, in \u001b[0;36mTextFileReader._make_engine\u001b[1;34m(self, f, engine)\u001b[0m\n\u001b[0;32m   1878\u001b[0m     \u001b[38;5;28;01mif\u001b[39;00m \u001b[38;5;124m\"\u001b[39m\u001b[38;5;124mb\u001b[39m\u001b[38;5;124m\"\u001b[39m \u001b[38;5;129;01mnot\u001b[39;00m \u001b[38;5;129;01min\u001b[39;00m mode:\n\u001b[0;32m   1879\u001b[0m         mode \u001b[38;5;241m+\u001b[39m\u001b[38;5;241m=\u001b[39m \u001b[38;5;124m\"\u001b[39m\u001b[38;5;124mb\u001b[39m\u001b[38;5;124m\"\u001b[39m\n\u001b[1;32m-> 1880\u001b[0m \u001b[38;5;28mself\u001b[39m\u001b[38;5;241m.\u001b[39mhandles \u001b[38;5;241m=\u001b[39m \u001b[43mget_handle\u001b[49m\u001b[43m(\u001b[49m\n\u001b[0;32m   1881\u001b[0m \u001b[43m    \u001b[49m\u001b[43mf\u001b[49m\u001b[43m,\u001b[49m\n\u001b[0;32m   1882\u001b[0m \u001b[43m    \u001b[49m\u001b[43mmode\u001b[49m\u001b[43m,\u001b[49m\n\u001b[0;32m   1883\u001b[0m \u001b[43m    \u001b[49m\u001b[43mencoding\u001b[49m\u001b[38;5;241;43m=\u001b[39;49m\u001b[38;5;28;43mself\u001b[39;49m\u001b[38;5;241;43m.\u001b[39;49m\u001b[43moptions\u001b[49m\u001b[38;5;241;43m.\u001b[39;49m\u001b[43mget\u001b[49m\u001b[43m(\u001b[49m\u001b[38;5;124;43m\"\u001b[39;49m\u001b[38;5;124;43mencoding\u001b[39;49m\u001b[38;5;124;43m\"\u001b[39;49m\u001b[43m,\u001b[49m\u001b[43m \u001b[49m\u001b[38;5;28;43;01mNone\u001b[39;49;00m\u001b[43m)\u001b[49m\u001b[43m,\u001b[49m\n\u001b[0;32m   1884\u001b[0m \u001b[43m    \u001b[49m\u001b[43mcompression\u001b[49m\u001b[38;5;241;43m=\u001b[39;49m\u001b[38;5;28;43mself\u001b[39;49m\u001b[38;5;241;43m.\u001b[39;49m\u001b[43moptions\u001b[49m\u001b[38;5;241;43m.\u001b[39;49m\u001b[43mget\u001b[49m\u001b[43m(\u001b[49m\u001b[38;5;124;43m\"\u001b[39;49m\u001b[38;5;124;43mcompression\u001b[39;49m\u001b[38;5;124;43m\"\u001b[39;49m\u001b[43m,\u001b[49m\u001b[43m \u001b[49m\u001b[38;5;28;43;01mNone\u001b[39;49;00m\u001b[43m)\u001b[49m\u001b[43m,\u001b[49m\n\u001b[0;32m   1885\u001b[0m \u001b[43m    \u001b[49m\u001b[43mmemory_map\u001b[49m\u001b[38;5;241;43m=\u001b[39;49m\u001b[38;5;28;43mself\u001b[39;49m\u001b[38;5;241;43m.\u001b[39;49m\u001b[43moptions\u001b[49m\u001b[38;5;241;43m.\u001b[39;49m\u001b[43mget\u001b[49m\u001b[43m(\u001b[49m\u001b[38;5;124;43m\"\u001b[39;49m\u001b[38;5;124;43mmemory_map\u001b[39;49m\u001b[38;5;124;43m\"\u001b[39;49m\u001b[43m,\u001b[49m\u001b[43m \u001b[49m\u001b[38;5;28;43;01mFalse\u001b[39;49;00m\u001b[43m)\u001b[49m\u001b[43m,\u001b[49m\n\u001b[0;32m   1886\u001b[0m \u001b[43m    \u001b[49m\u001b[43mis_text\u001b[49m\u001b[38;5;241;43m=\u001b[39;49m\u001b[43mis_text\u001b[49m\u001b[43m,\u001b[49m\n\u001b[0;32m   1887\u001b[0m \u001b[43m    \u001b[49m\u001b[43merrors\u001b[49m\u001b[38;5;241;43m=\u001b[39;49m\u001b[38;5;28;43mself\u001b[39;49m\u001b[38;5;241;43m.\u001b[39;49m\u001b[43moptions\u001b[49m\u001b[38;5;241;43m.\u001b[39;49m\u001b[43mget\u001b[49m\u001b[43m(\u001b[49m\u001b[38;5;124;43m\"\u001b[39;49m\u001b[38;5;124;43mencoding_errors\u001b[39;49m\u001b[38;5;124;43m\"\u001b[39;49m\u001b[43m,\u001b[49m\u001b[43m \u001b[49m\u001b[38;5;124;43m\"\u001b[39;49m\u001b[38;5;124;43mstrict\u001b[39;49m\u001b[38;5;124;43m\"\u001b[39;49m\u001b[43m)\u001b[49m\u001b[43m,\u001b[49m\n\u001b[0;32m   1888\u001b[0m \u001b[43m    \u001b[49m\u001b[43mstorage_options\u001b[49m\u001b[38;5;241;43m=\u001b[39;49m\u001b[38;5;28;43mself\u001b[39;49m\u001b[38;5;241;43m.\u001b[39;49m\u001b[43moptions\u001b[49m\u001b[38;5;241;43m.\u001b[39;49m\u001b[43mget\u001b[49m\u001b[43m(\u001b[49m\u001b[38;5;124;43m\"\u001b[39;49m\u001b[38;5;124;43mstorage_options\u001b[39;49m\u001b[38;5;124;43m\"\u001b[39;49m\u001b[43m,\u001b[49m\u001b[43m \u001b[49m\u001b[38;5;28;43;01mNone\u001b[39;49;00m\u001b[43m)\u001b[49m\u001b[43m,\u001b[49m\n\u001b[0;32m   1889\u001b[0m \u001b[43m\u001b[49m\u001b[43m)\u001b[49m\n\u001b[0;32m   1890\u001b[0m \u001b[38;5;28;01massert\u001b[39;00m \u001b[38;5;28mself\u001b[39m\u001b[38;5;241m.\u001b[39mhandles \u001b[38;5;129;01mis\u001b[39;00m \u001b[38;5;129;01mnot\u001b[39;00m \u001b[38;5;28;01mNone\u001b[39;00m\n\u001b[0;32m   1891\u001b[0m f \u001b[38;5;241m=\u001b[39m \u001b[38;5;28mself\u001b[39m\u001b[38;5;241m.\u001b[39mhandles\u001b[38;5;241m.\u001b[39mhandle\n",
      "File \u001b[1;32mc:\\Users\\LR558EQ\\OneDrive - EY\\Desktop\\TCC\\projeto_python\\env\\lib\\site-packages\\pandas\\io\\common.py:873\u001b[0m, in \u001b[0;36mget_handle\u001b[1;34m(path_or_buf, mode, encoding, compression, memory_map, is_text, errors, storage_options)\u001b[0m\n\u001b[0;32m    868\u001b[0m \u001b[38;5;28;01melif\u001b[39;00m \u001b[38;5;28misinstance\u001b[39m(handle, \u001b[38;5;28mstr\u001b[39m):\n\u001b[0;32m    869\u001b[0m     \u001b[38;5;66;03m# Check whether the filename is to be opened in binary mode.\u001b[39;00m\n\u001b[0;32m    870\u001b[0m     \u001b[38;5;66;03m# Binary mode does not support 'encoding' and 'newline'.\u001b[39;00m\n\u001b[0;32m    871\u001b[0m     \u001b[38;5;28;01mif\u001b[39;00m ioargs\u001b[38;5;241m.\u001b[39mencoding \u001b[38;5;129;01mand\u001b[39;00m \u001b[38;5;124m\"\u001b[39m\u001b[38;5;124mb\u001b[39m\u001b[38;5;124m\"\u001b[39m \u001b[38;5;129;01mnot\u001b[39;00m \u001b[38;5;129;01min\u001b[39;00m ioargs\u001b[38;5;241m.\u001b[39mmode:\n\u001b[0;32m    872\u001b[0m         \u001b[38;5;66;03m# Encoding\u001b[39;00m\n\u001b[1;32m--> 873\u001b[0m         handle \u001b[38;5;241m=\u001b[39m \u001b[38;5;28;43mopen\u001b[39;49m\u001b[43m(\u001b[49m\n\u001b[0;32m    874\u001b[0m \u001b[43m            \u001b[49m\u001b[43mhandle\u001b[49m\u001b[43m,\u001b[49m\n\u001b[0;32m    875\u001b[0m \u001b[43m            \u001b[49m\u001b[43mioargs\u001b[49m\u001b[38;5;241;43m.\u001b[39;49m\u001b[43mmode\u001b[49m\u001b[43m,\u001b[49m\n\u001b[0;32m    876\u001b[0m \u001b[43m            \u001b[49m\u001b[43mencoding\u001b[49m\u001b[38;5;241;43m=\u001b[39;49m\u001b[43mioargs\u001b[49m\u001b[38;5;241;43m.\u001b[39;49m\u001b[43mencoding\u001b[49m\u001b[43m,\u001b[49m\n\u001b[0;32m    877\u001b[0m \u001b[43m            \u001b[49m\u001b[43merrors\u001b[49m\u001b[38;5;241;43m=\u001b[39;49m\u001b[43merrors\u001b[49m\u001b[43m,\u001b[49m\n\u001b[0;32m    878\u001b[0m \u001b[43m            \u001b[49m\u001b[43mnewline\u001b[49m\u001b[38;5;241;43m=\u001b[39;49m\u001b[38;5;124;43m\"\u001b[39;49m\u001b[38;5;124;43m\"\u001b[39;49m\u001b[43m,\u001b[49m\n\u001b[0;32m    879\u001b[0m \u001b[43m        \u001b[49m\u001b[43m)\u001b[49m\n\u001b[0;32m    880\u001b[0m     \u001b[38;5;28;01melse\u001b[39;00m:\n\u001b[0;32m    881\u001b[0m         \u001b[38;5;66;03m# Binary mode\u001b[39;00m\n\u001b[0;32m    882\u001b[0m         handle \u001b[38;5;241m=\u001b[39m \u001b[38;5;28mopen\u001b[39m(handle, ioargs\u001b[38;5;241m.\u001b[39mmode)\n",
      "\u001b[1;31mFileNotFoundError\u001b[0m: [Errno 2] No such file or directory: 'X_train_ng_custom.csv'"
     ]
    }
   ],
   "source": [
    "# Definindo o objetivo da função\n",
    "def objective(trial):\n",
    "\n",
    "    scalers = trial.suggest_categorical(\"scalers\", ['minmax', 'standard'])\n",
    " \n",
    "    # Definir escaladores de padronização (standard) ou normalização (minmax)\n",
    "    if scalers == \"minmax\":\n",
    "        scaler = MinMaxScaler()\n",
    "    elif scalers == \"standard\":\n",
    "        scaler = StandardScaler()\n",
    "\n",
    "        # Instanciando o modelo\n",
    "    criterion = trial.suggest_categorical('criterion', ['gini', 'entropy'])\n",
    "    max_depth = trial.suggest_int('max_depth', 2,800,step=2)\n",
    "    max_leaf_nodes =  trial.suggest_int('max_leaf_nodes',2,2000,step=5)\n",
    "    min_samples_split = trial.suggest_int('min_samples_split',2,6)\n",
    "    estimator = DecisionTreeClassifier(criterion=criterion,\n",
    "                                       max_depth=max_depth, \n",
    "                                       max_leaf_nodes=max_leaf_nodes, \n",
    "                                       min_samples_split=min_samples_split)\n",
    "                                                        \n",
    "    # Pipeline do modelo\n",
    "    pipeline = make_pipeline(scaler, estimator)\n",
    "    rus = RandomUnderSampler(random_state=42)\n",
    "    x,y = rus.fit_resample(X_train, y_train)\n",
    "    # -- Evaluate the score by cross-validation\n",
    "    score = cross_val_score(pipeline, x, y, scoring='accuracy')   \n",
    "    return score.mean()\n",
    "\n",
    "if __name__ == '__main__':\n",
    "\n",
    "    X_train = pd.read_csv(\"X_train_ng_custom.csv\", header=0)\n",
    "    X_test = pd.read_csv(\"X_test_ng_custom.csv\", header=0)\n",
    "    \n",
    "    y_train = X_train['IN_CMST_FUN'].reset_index(drop=True)\n",
    "    y_test = X_test['IN_CMST_FUN'].reset_index(drop=True)\n",
    "    \n",
    "    X_train.drop(columns=['IN_CMST_FUN'], inplace=True)\n",
    "    X_test.drop(columns=['IN_CMST_FUN'], inplace=True)\n",
    "    \n",
    "    study = optuna.create_study(direction=\"maximize\") # maximise the score during tuning\n",
    "    study.optimize(objective, n_trials=200, n_jobs=-1) # run the objective function 100 times\n",
    "\n",
    "    print(\"Number of finished trials: {}\".format(len(study.trials)))\n",
    "\n",
    "    print(\"Best trial:\")\n",
    "    trial = study.best_trial\n",
    "\n",
    "    print(\"  Value: {}\".format(trial.value))\n",
    "\n",
    "    print(\"  Params: \")\n",
    "    for key, value in trial.params.items():\n",
    "        print(\"    {}: {}\".format(key, value))"
   ]
  },
  {
   "cell_type": "markdown",
   "metadata": {},
   "source": [
    "#### Estatística Descritiva"
   ]
  },
  {
   "cell_type": "code",
   "execution_count": null,
   "metadata": {
    "scrolled": true
   },
   "outputs": [],
   "source": [
    "df_treino.describe(percentiles=[0.05, 0.1, 0.25, 0.5, 0.75, 0.9, 0.95]).T.drop('matricula', errors='ignore')"
   ]
  },
  {
   "cell_type": "markdown",
   "metadata": {},
   "source": [
    "#### Proporção da variável target/alvo"
   ]
  },
  {
   "cell_type": "code",
   "execution_count": null,
   "metadata": {},
   "outputs": [],
   "source": [
    "df_treino['promovido'] = df_treino['promovido'].astype(int).astype('category')\n",
    "df_treino['promovido'].value_counts()"
   ]
  },
  {
   "cell_type": "markdown",
   "metadata": {},
   "source": [
    "#### Análise das variáveis numéricas"
   ]
  },
  {
   "cell_type": "code",
   "execution_count": null,
   "metadata": {},
   "outputs": [],
   "source": [
    "# Distribuição das variáveis numéricas, exceto a variável matricula, visto que é um ID (identificador)\n",
    "\n",
    "num_cols = df_treino.select_dtypes(include=['int64', 'float64']).columns.drop('matricula')\n",
    "for col in num_cols:\n",
    "    plt.figure(figsize=(6,4))\n",
    "    sns.histplot(df_treino[col], kde=True)\n",
    "    plt.title(f\"Distribuição - {col}\")\n",
    "    plt.ylabel(\"Quantidade\")\n",
    "    plt.show()"
   ]
  },
  {
   "cell_type": "markdown",
   "metadata": {},
   "source": [
    "**Percebi que as variáveis kpis_atingidos e premios, indicam \"verdadeiro\" ou \"falso\", apesar de seus valores possíveis serem inteiros (1 ou 0). Vamos confirmar abaixo e se for verdadeiro, transformaremos para variáveis categóricas.**\n"
   ]
  },
  {
   "cell_type": "code",
   "execution_count": null,
   "metadata": {},
   "outputs": [],
   "source": [
    "print(df_treino['kpis_atingidos'].unique())\n",
    "print(df_treino['premios'].unique())"
   ]
  },
  {
   "cell_type": "markdown",
   "metadata": {},
   "source": [
    "**Dado a confirmação da hipótese apresentada nas visualizações gráficas, transformaremos as variáveis para categóricas**"
   ]
  },
  {
   "cell_type": "code",
   "execution_count": null,
   "metadata": {},
   "outputs": [],
   "source": [
    "df_treino['kpis_atingidos'] = df_treino['kpis_atingidos'].astype('category')\n",
    "df_treino['premios'] = df_treino['premios'].astype('category')"
   ]
  },
  {
   "cell_type": "code",
   "execution_count": null,
   "metadata": {},
   "outputs": [],
   "source": [
    "df_treino.info()"
   ]
  },
  {
   "cell_type": "code",
   "execution_count": null,
   "metadata": {
    "scrolled": true
   },
   "outputs": [],
   "source": [
    "# Após as transformações, ploto novamente os gráficos de histogramas e agora acrescento também com o boxplot\n",
    "\n",
    "num_cols = df_treino.select_dtypes(include=['int64', 'float64']).columns.drop('matricula')\n",
    "for col in num_cols:\n",
    "    plt.figure(figsize=(6,4))\n",
    "    sns.histplot(df_treino[col], kde=True)\n",
    "    plt.title(f\"Distribuição - {col}\")\n",
    "    plt.ylabel(\"Quantidade\")\n",
    "    plt.show()"
   ]
  },
  {
   "cell_type": "code",
   "execution_count": null,
   "metadata": {},
   "outputs": [],
   "source": [
    "for col in num_cols:\n",
    "    plt.figure(figsize=(6, 4))\n",
    "    sns.boxplot(x=df_treino[col])\n",
    "    plt.title(f\"Boxplot - {col}\")\n",
    "    plt.xlabel(col)\n",
    "    plt.show()"
   ]
  },
  {
   "cell_type": "code",
   "execution_count": null,
   "metadata": {
    "scrolled": true
   },
   "outputs": [],
   "source": [
    "# Para algumas variáveis numéricas (principalmente relacionadas a desempenhos), quero analisar a distribuição\n",
    "# Considerando a proporção de Promovidos x Não Promovidos\n",
    "\n",
    "num_cols = df_treino.select_dtypes(include=['int64', 'float64']).columns.drop(['matricula', 'idade', 'tempo_empresa'])\n",
    "for col in num_cols:\n",
    "    grafico_movimentacao_promovidos(df_treino, col, tipo='histograma')"
   ]
  },
  {
   "cell_type": "code",
   "execution_count": null,
   "metadata": {},
   "outputs": [],
   "source": [
    "df_treino['qtd_treinamentos'].value_counts(normalize=True)*100"
   ]
  },
  {
   "cell_type": "code",
   "execution_count": null,
   "metadata": {},
   "outputs": [],
   "source": [
    "df_treino[(df_treino[\"qtd_treinamentos\"]==1) | (df_treino[\"qtd_treinamentos\"]==2)]['promovido'].value_counts()"
   ]
  },
  {
   "cell_type": "code",
   "execution_count": null,
   "metadata": {},
   "outputs": [],
   "source": [
    "# promovidos para qtd_treinamentos = 1 ou 2\n",
    "prom_qtd_treinamento = df_treino[((df_treino[\"qtd_treinamentos\"] == 1) | (df_treino[\"qtd_treinamentos\"] == 2)) & \n",
    "          (df_treino[\"promovido\"] == 1)]['matricula'].count()\n",
    "total_promovidos = df_treino[df_treino[\"promovido\"]==1]['matricula'].count()\n",
    "result = (prom_qtd_treinamento/total_promovidos)*100\n",
    "print(np.round(result, 2))"
   ]
  },
  {
   "cell_type": "markdown",
   "metadata": {},
   "source": [
    "**No caso da variável de nota média de treinamento, criarei faixas para facilitar a visualização e interpretação dos dados**\n",
    "\n",
    "- Faixas: começando a partir de 30 e intervalando a cada 10 pontos"
   ]
  },
  {
   "cell_type": "code",
   "execution_count": null,
   "metadata": {},
   "outputs": [],
   "source": [
    "# Faixas de notas médias (com intervalo de 10 pontos)\n",
    "bins = range(30, 101,10)\n",
    "labels = [f\"{b}-{b+9}\" for b in bins[:-1]]\n",
    "df_treino['faixa_treinamento'] = pd.cut(df_treino['media_treinamento'], bins=bins, labels=labels, right=False)\n",
    "\n",
    "# Garantir que promovido seja numérico\n",
    "df_treino['promovido'] = df_treino['promovido'].astype(int)\n",
    "\n",
    "# Calcular taxa de promoção por faixa\n",
    "taxa_promocao = df_treino.groupby('faixa_treinamento', observed=True)['promovido'].mean() * 100\n",
    "contagem = df_treino.groupby('faixa_treinamento', observed=True)['promovido'].count()\n",
    "\n",
    "# Plotar\n",
    "fig, ax1 = plt.subplots(figsize=(12, 6))\n",
    "\n",
    "# Barras: taxa de promoção\n",
    "ax1.bar(taxa_promocao.index, taxa_promocao, color='skyblue', alpha=0.8)\n",
    "ax1.set_ylabel('Funcionários Promovidos %', fontsize=14)\n",
    "ax1.set_xlabel('Faixas das Notas Médias de Treinamento', fontsize=14)\n",
    "ax1.set_title('Taxa de Promovidos por Notas Médias de Treinamento', fontsize=16)\n",
    "ax1.set_ylim(0, 100)\n",
    "\n",
    "# Adicionar rótulos\n",
    "for i, val in enumerate(taxa_promocao):\n",
    "    ax1.text(i, val + 1, f\"{val:.1f}%\", ha='center', fontsize=10)\n",
    "\n",
    "plt.xticks(rotation=45)\n",
    "plt.tight_layout()\n",
    "plt.show()"
   ]
  },
  {
   "attachments": {
    "4996d303-6511-4a8e-b8f2-78acc137fb50.png": {
     "image/png": "[encoded data removed]"
    },
    "c1ef4e5f-2fdb-47a5-ac5f-15373687ec4c.png": {
     "image/png": "[encoded data removed]"
    }
   },
   "cell_type": "markdown",
   "metadata": {},
   "source": [
    "**Anotações sobre as análises gráficas dos dados numéricos**\n",
    "- Em relação ao número de treinamentos (técnicos ou comportamentais), a grande maioria possuí apenas a realização de 1 treinamento (81% aproximadamente), com 96% tendo realizado até 2 treinamentos no ano anterior. Quanto aos promovidos, para quem realizou 1 treinamento, aproximadamente 9,7% receberam promoção no último ano e cerca de 8,2% dos que realizaram 2 treinamentos, foram promovidos. Quando olhamos apenas para esses dois grupos 9,43% foram promovidos e para o total geral representam quase 97% dos promovidos. Assim sendo, aparentam que ter muitos cursos, para este caso, não resultam em promoções.\n",
    "- No caso da avaliação anterior, temos 339 colaboradores que tiveram nota = 0 no ano anterior e foram promovidos, me parece que essa atribuição não seria o resultado em si, mas o fato de não ter avaliação registrada. Podemos ver que a performance dos promovidos é crescente, conforme o aumento das notas no ano anterior, melhor representado na tabela e gráfico, abaixo:\n",
    "\n",
    "![image.png](attachment:c1ef4e5f-2fdb-47a5-ac5f-15373687ec4c.png)\n",
    "\n",
    "![image.png](attachment:4996d303-6511-4a8e-b8f2-78acc137fb50.png)\n",
    "\n",
    "- Quanto ao gráfico que analisa a taxa de proporção por nota média de treinamento, podemos identificar que há um aproveitamento extremamente superior para os funcionários que atingem a meta superior aos 90 pontos de nota. As demais faixas, apresentam valores em um intervalo próximo de aproveitamento, variando entre 3,9% para a menor pontuação do intervalo (40 a 49) e 11,7% de aproveitamento para a maior pontuação do intervalo (80 a 89), excluindo, obviamente, a faixa de pontuação máxima (90 a 99)."
   ]
  },
  {
   "cell_type": "markdown",
   "metadata": {},
   "source": [
    "#### Análise das variáveis categóricas"
   ]
  },
  {
   "cell_type": "code",
   "execution_count": null,
   "metadata": {},
   "outputs": [],
   "source": [
    "# Distribuição das variáveis categóricas, considerando a distribuição PROMOVIDOS\n",
    "\n",
    "cat_cols = df_treino.select_dtypes(include=['category']).columns.drop('regiao')\n",
    "for col in cat_cols:\n",
    "    grafico_movimentacao_promovidos(df_treino, col, tipo='barras_agrupadas')"
   ]
  },
  {
   "cell_type": "code",
   "execution_count": null,
   "metadata": {},
   "outputs": [],
   "source": [
    "grafico_movimentacao_promovidos(df_treino, 'genero', tipo='taxa_promocao')"
   ]
  },
  {
   "cell_type": "code",
   "execution_count": null,
   "metadata": {},
   "outputs": [],
   "source": [
    "df_kpis_premios = df_treino.query('kpis_atingidos == 1 & premios == 1')\n",
    "print(df_kpis_premios.shape[0])"
   ]
  },
  {
   "cell_type": "code",
   "execution_count": null,
   "metadata": {},
   "outputs": [],
   "source": [
    "df_kpis_premios['promovido'].value_counts()"
   ]
  },
  {
   "cell_type": "markdown",
   "metadata": {},
   "source": [
    "**Anotações sobre as análises gráficas das variáveis categóricas**"
   ]
  },
  {
   "attachments": {
    "aef00b40-8ea4-4887-b681-463f480e2c23.png": {
     "image/png": "[encoded data removed]"
    }
   },
   "cell_type": "markdown",
   "metadata": {},
   "source": [
    "- Quando analisamos a Taxa de Conversão dos Departamentos, ou seja, o percentual de aproveitamento dos departamentos, temos uma taxa de conversão média (aproximada) de 8,73% de promoção, assim sendo, 5 departamentos ficaram acima desta média: Analytics, Finance, Operations, Procurement e Technology, conforme gráfico abaixo:\n",
    "\n",
    "![image.png](attachment:aef00b40-8ea4-4887-b681-463f480e2c23.png)\n",
    "\n",
    "- Em relação ao nível de escolaridade, as correspondências são:  \t\n",
    "| Nome da Variável       | Significado                                                                                           |\n",
    "|------------------------|-------------------------------------------------------------------------------------------------------|\n",
    "| **Below Secondary**          | Abaixo do Ensino Médio                                                  |\n",
    "| **Bachelor's**          | Ensino Superior – Graduação                                                  |\n",
    "| **Master's & Above**          | Pós-graduação (Mestrado, Doutorado)                                    |\n",
    "| **No_Education**          | Sem Escolaridade                                                           |\n",
    "- Assim sendo, o gráfico abaixo demonstra a Taxa de Conversão por **Escolaridade**, mostrando também uma distribuição bastante semelhante entre os três principais níveis, com uma queda mais contundente para os que não possuem nenhum grau de escolaridade\n",
    "- O percentual por **gênero** demonstra uma distribuição geral de aproximadamente 70 a 30%, com predominância do gênero masculino. No entanto, na avaliação dos promovidos, o gênero feminino tem uma leve predominância com taxa de conversão igual a 9%, enquanto o masculino com 8,3%. Assim, se considerarmos a proporção individual, o gênero feminino possuí uma taxa maior em conversão.\n",
    "- Em relação as variáveis de desempenho como **kpis_atingidos** (que aponta que o colaborado no ano anterior, alcançou pelo menos 80% dos kpi's voltados aos indicadores de perfomance) e **premios** (que aponta se o colaborador recebeu alguma premiação no ano anterior), vemos que há uma taxa de conversão superior para os funcionários que possuem esses indicadores, sendo aproximadamente 20% para kpis_atingidos e 78% para aqueles que receberam premiação. Quando juntamos os funcionários que possuem kpis atingidos e premiação, essa taxa fica em aproximadamente 63% de taxa de promoção."
   ]
  },
  {
   "cell_type": "markdown",
   "metadata": {},
   "source": [
    "#### Análise de Correlação"
   ]
  },
  {
   "cell_type": "code",
   "execution_count": null,
   "metadata": {},
   "outputs": [],
   "source": [
    "# Correlação numérica com o target\n",
    "num_cols = df_treino.select_dtypes(include=['int64', 'float64']).columns.drop(['promovido', 'matricula'])\n",
    "corr = df_treino[num_cols].corrwith(df_treino['promovido'])\n",
    "print(corr.sort_values(ascending=False))"
   ]
  },
  {
   "cell_type": "code",
   "execution_count": null,
   "metadata": {},
   "outputs": [],
   "source": [
    "num_cols = df_treino.select_dtypes(include=['int64', 'float64']).columns\n",
    "correlacao = df_treino[num_cols].corr()\n",
    "\n",
    "# Depois disso, crio um heatmap da correlação, que seria a plotagem dessa matriz\n",
    "plt.figure(figsize=(12, 8))\n",
    "sns.heatmap(correlacao, annot=True, cmap=\"coolwarm\", fmt=\".2f\")\n",
    "plt.title(\"Correlação entre variáveis\")\n",
    "plt.show()"
   ]
  },
  {
   "cell_type": "code",
   "execution_count": null,
   "metadata": {
    "scrolled": true
   },
   "outputs": [],
   "source": [
    "# Correlação apenas com a target\n",
    "\n",
    "corr_df = corr.to_frame(name='Correlação com promovido')\n",
    "plt.figure(figsize=(8, len(corr_df) * 0.5))\n",
    "sns.heatmap(corr_df.sort_values(by='Correlação com promovido', ascending=False), \n",
    "            annot=True, cmap='coolwarm', center=0)\n",
    "plt.title('Correlação entre variáveis numéricas e o target (promovido)')\n",
    "plt.show()"
   ]
  },
  {
   "cell_type": "markdown",
   "metadata": {},
   "source": [
    "Para análise que investiga a correlação estatística entre as variáveis, nenhuma correlação à nível negocial que possa impactar em caráter preditivo. Há uma correlação natual existente entre **\"idade\"** e **\"tempo_empresa\"**, que no entanto, não agrega valor ao negócio, para o que estamos querendo prever/analisar."
   ]
  },
  {
   "cell_type": "markdown",
   "metadata": {},
   "source": [
    "#### Análise - Teste de Associação (qui-quadrado)"
   ]
  },
  {
   "cell_type": "code",
   "execution_count": null,
   "metadata": {},
   "outputs": [],
   "source": [
    "from sklearn.feature_selection import chi2\n",
    "from sklearn.preprocessing import LabelEncoder\n",
    "import pandas as pd\n",
    "\n",
    "# Seleciona colunas categóricas\n",
    "cat_cols = df_treino.select_dtypes(include=['object', 'category']).columns\n",
    "\n",
    "# Codifica as variáveis categóricas\n",
    "df_cat = df_treino[cat_cols].copy()\n",
    "for col in df_cat.columns:\n",
    "    df_cat[col] = LabelEncoder().fit_transform(df_cat[col].astype(str))\n",
    "\n",
    "# Aplica o teste qui-quadrado\n",
    "chi_scores, p_values = chi2(df_cat, df_treino['promovido'])\n",
    "\n",
    "# Cria DataFrame com os resultados\n",
    "chi2_df = pd.DataFrame({\n",
    "    'Variavel': df_cat.columns,\n",
    "    'Qui-Quadrado': chi_scores,\n",
    "    'p-valor': p_values\n",
    "}).sort_values(by='Qui-Quadrado', ascending=False)\n",
    "\n",
    "print(chi2_df)\n",
    "\n",
    "# Gráfico (barra)\n",
    "plt.figure(figsize=(10, 6))\n",
    "ax = sns.barplot(x='Qui-Quadrado', y='Variavel', data=chi2_df)\n",
    "# Colocar valores das barras dentro delas\n",
    "for p in ax.patches:\n",
    "    width = p.get_width()\n",
    "    y = p.get_y() + p.get_height() / 2\n",
    "    ax.text(width + 0.5, y, f'{width:.1f}', va='center')\n",
    "plt.title('Importância das variáveis categóricas pelo teste Qui-Quadrado')\n",
    "plt.xlabel('Coeficiente (Estatística Qui-Quadrado)')\n",
    "plt.ylabel('')\n",
    "plt.tight_layout()\n",
    "plt.show()"
   ]
  },
  {
   "cell_type": "markdown",
   "metadata": {},
   "source": [
    "Em relação ao teste de associação, conforme já havíamos registrado anteriormente, variáveis como **premios**, **kpis_atingidos** demonstraram uma alta associação com o target. Assim, podemos concluir que funcionários que receberam prêmios e tiveram atingimento de pelo menos 80% dos kpi's de indicadores de performance, apresentam maior proporção de promoção em comparação aos que não receberam\n"
   ]
  },
  {
   "cell_type": "markdown",
   "metadata": {},
   "source": [
    "Lembrando que a variável de **faixa de treinamento** foi criada apenas para demonstrar intervalos de notas médias que os colaboradores alcançaram, na qual identificamos que quanto maior a faixa, maior a conversão da promoção, por isso apresenta um coeficiente alto de associação qui-quadrado"
   ]
  }
 ],
 "metadata": {
  "kernelspec": {
   "display_name": "Python 3 (ipykernel)",
   "language": "python",
   "name": "python3"
  },
  "language_info": {
   "codemirror_mode": {
    "name": "ipython",
    "version": 3
   },
   "file_extension": ".py",
   "mimetype": "text/x-python",
   "name": "python",
   "nbconvert_exporter": "python",
   "pygments_lexer": "ipython3",
   "version": "3.10.9"
  }
 },
 "nbformat": 4,
 "nbformat_minor": 4
}
