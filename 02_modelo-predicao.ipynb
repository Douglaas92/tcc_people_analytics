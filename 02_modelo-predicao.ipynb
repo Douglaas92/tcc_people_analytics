{
 "cells": [
  {
   "cell_type": "markdown",
   "metadata": {},
   "source": [
    "# **Impacto no uso de People Analytics em decisões organizacionais para identificação de talentos**"
   ]
  },
  {
   "cell_type": "markdown",
   "metadata": {},
   "source": [
    "**Objetivo:** Este notebook objetiva apresentar os experimentos para a criação de um **Modelo de Classificação**, vinculado ao Trabalho de Conclusão de Curso para Data Science and Analytics, junto a USP-Esalq, utilizando a metodologia CRISP-DM, desde sua fase de Entendimento dos Dados à última etapa de Implantação. \n",
    "\n",
    "**Experimentos**: As testagens considerarão o uso de três modelagens: Regressão Logística, Árvore de Decisão e Random Forest. As escolhas destes algoritmos se deram justamente pela complementação entre eles, além da facilidade de uso e interpretabilidade dos modelos. A Regressão Logística é fácil de interpretar e mostra como cada variável impacta a chance de promoção. A Árvore de Decisão gera regras simples e visuais que facilitam entender as decisões. Já o Random Forest é mais robusto, melhorando a precisão e ajudando a evitar erros comuns em modelos mais simples. Desta forma, se torna possível analisar e comparar de forma clara a performance de cada um deles, auxiliando na escolha do modelo \"vencedor\".\n",
    "\n",
    "**Link Dataset:** https://www.kaggle.com/datasets/bhrt97/hr-analytics-classification\n",
    "\n",
    "*Para acessar a documentação do projeto, com os insights, instruções e resultados obtidos, acesse o arquivo README.md deste repositório*"
   ]
  },
  {
   "cell_type": "markdown",
   "metadata": {},
   "source": [
    "## 📘 Dicionário de Variáveis\n",
    "\n",
    "| Nome da Variável       | Significado                                                                                           |\n",
    "|------------------------|-------------------------------------------------------------------------------------------------------|\n",
    "| **matricula**          | Identificador único do(a) colaborador(a) na empresa.                                                  |\n",
    "| **departamento**       | Departamento ou área em que o(a) colaborador(a) atua (ex: Vendas, Tecnologia, RH).                   |\n",
    "| **regiao**             | Região geográfica de atuação do(a) colaborador(a) (sem ordem ou hierarquia específica).               |\n",
    "| **escolaridade**       | Nível educacional alcançado pelo(a) colaborador(a) (ex: Graduação, Pós-graduação, etc.).             |\n",
    "| **genero**             | Gênero do(a) colaborador(a), geralmente categorizado como \"Masculino\" ou \"Feminino\".                 |\n",
    "| **canal_recrutamento** | Canal através do qual o(a) colaborador(a) foi recrutado(a) (ex: Recrutamento Interno, Agência).      |\n",
    "| **qtd_treinamentos**   | Número de treinamentos (técnicos ou comportamentais) realizados no ano anterior.                      |\n",
    "| **idade**              | Idade do(a) colaborador(a), em anos.                                                                  |\n",
    "| **avaliacao_anterior** | Nota de desempenho atribuída ao(à) colaborador(a) no ano anterior (geralmente em uma escala de 1 a 5).|\n",
    "| **tempo_empresa**      | Tempo de serviço na empresa, em anos completos.                                                       |\n",
    "| **kpis_atingidos**     | Indicador binário: 1 se mais de 80% dos KPIs (indicadores de performance) foram atingidos; 0 caso contrário. |\n",
    "| **premios**            | Indicador binário: 1 se o(a) colaborador(a) ganhou algum prêmio no ano anterior; 0 caso contrário.    |\n",
    "| **media_treinamento**  | Nota média obtida nos treinamentos atuais (avaliações de desempenho nos cursos realizados).           |\n",
    "| **promovido**          | Variável alvo (target): 1 se o(a) colaborador(a) foi recomendado(a) para promoção; 0 caso contrário.  |\n"
   ]
  },
  {
   "cell_type": "markdown",
   "metadata": {},
   "source": [
    "## Importar Bibliotecas"
   ]
  },
  {
   "cell_type": "code",
   "execution_count": 1,
   "metadata": {},
   "outputs": [],
   "source": [
    "# ============================================================\n",
    "# 1. Importação de bibliotecas para manipulação dos dados e plots \n",
    "# ============================================================\n",
    "\n",
    "import pandas as pd\n",
    "import numpy as np\n",
    "from modulo_graficos import grafico_movimentacao_promovidos # Módulo Python (disponível no repositório do projeto)\n",
    "\n",
    "# ============================================================\n",
    "# 2. Importação de bibliotecas relacionados à machine learning\n",
    "# ============================================================\n",
    "\n",
    "from sklearn.model_selection import train_test_split, StratifiedKFold, cross_val_score, GridSearchCV\n",
    "from sklearn.model_selection import cross_validate\n",
    "from sklearn.metrics import make_scorer, precision_score, f1_score, roc_auc_score\n",
    "from sklearn.preprocessing import StandardScaler, OneHotEncoder, FunctionTransformer\n",
    "from sklearn.compose import ColumnTransformer\n",
    "from sklearn.pipeline import Pipeline\n",
    "from sklearn.impute import SimpleImputer\n",
    "from sklearn.linear_model import LogisticRegression\n",
    "from sklearn.tree import DecisionTreeClassifier\n",
    "from sklearn.ensemble import RandomForestClassifier\n",
    "from sklearn.metrics import (\n",
    "    classification_report, recall_score, fbeta_score, confusion_matrix, \n",
    "    ConfusionMatrixDisplay, precision_recall_curve, auc\n",
    ")\n",
    "import joblib"
   ]
  },
  {
   "cell_type": "code",
   "execution_count": 2,
   "metadata": {},
   "outputs": [],
   "source": [
    "# ============================================================\n",
    "# 3. Ajustes visuais para visualização das tabelas e células\n",
    "# ============================================================\n",
    "\n",
    "pd.set_option('display.max_colwidth', None) # remover truncamento de valores das colunas\n",
    "pd.set_option('display.max_rows', None) # remover truncamento do número de linhas exibidas\n",
    "pd.set_option('display.max_columns', None) # remover truncamento do número de colunas exibidas\n",
    "pd.set_option('display.float_format', '{:.2f}'.format) # valores quebrados serão setados com 2 casas decimais"
   ]
  },
  {
   "cell_type": "markdown",
   "metadata": {},
   "source": [
    "## Input dos Dados\n",
    "\n",
    "A base de dados disponibilizada pelo Kaggle está dividida em dois arquivos: treino e teste. \n",
    "\n",
    "Seguirei, portanto, a seguinte abordagem:\n",
    "\n",
    "- A base de treino será utilizada para treinamento e validação do modelo (usando técnicas como validação cruzada ou divisão em treino/validação).\n",
    "- A base de teste será utilizada apenas posteriormente para geração das previsões finais, pois seus rótulos são ocultos (avaliação cega).\n",
    "\n",
    "A abordagem segue desta forma, pois visa garantir que o modelo não tenha acesso a dados do conjunto de teste durante o treinamento, evitando vazamento de informação e garantindo uma avaliação justa."
   ]
  },
  {
   "cell_type": "code",
   "execution_count": 3,
   "metadata": {},
   "outputs": [
    {
     "name": "stdout",
     "output_type": "stream",
     "text": [
      "DF Treino: (54808, 14)\n",
      "DF Teste: (23490, 13)\n"
     ]
    }
   ],
   "source": [
    "# ============================================================\n",
    "# 4. Carregando base de dados e obtendo informações inicial dos dados\n",
    "# ============================================================\n",
    "\n",
    "train_df = pd.read_csv(\"dataset/train_hr_class.csv\")\n",
    "test_df = pd.read_csv(\"dataset/test_hr_class.csv\")\n",
    "print(f\"DF Treino: {train_df.shape}\")\n",
    "print(f\"DF Teste: {test_df.shape}\")"
   ]
  },
  {
   "cell_type": "code",
   "execution_count": 4,
   "metadata": {},
   "outputs": [
    {
     "name": "stdout",
     "output_type": "stream",
     "text": [
      "<class 'pandas.core.frame.DataFrame'>\n",
      "RangeIndex: 54808 entries, 0 to 54807\n",
      "Data columns (total 14 columns):\n",
      " #   Column                Non-Null Count  Dtype  \n",
      "---  ------                --------------  -----  \n",
      " 0   employee_id           54808 non-null  int64  \n",
      " 1   department            54808 non-null  object \n",
      " 2   region                54808 non-null  object \n",
      " 3   education             52399 non-null  object \n",
      " 4   gender                54808 non-null  object \n",
      " 5   recruitment_channel   54808 non-null  object \n",
      " 6   no_of_trainings       54808 non-null  int64  \n",
      " 7   age                   54808 non-null  int64  \n",
      " 8   previous_year_rating  50684 non-null  float64\n",
      " 9   length_of_service     54808 non-null  int64  \n",
      " 10  KPIs_met >80%         54808 non-null  int64  \n",
      " 11  awards_won?           54808 non-null  int64  \n",
      " 12  avg_training_score    54808 non-null  int64  \n",
      " 13  is_promoted           54808 non-null  int64  \n",
      "dtypes: float64(1), int64(8), object(5)\n",
      "memory usage: 5.9+ MB\n"
     ]
    }
   ],
   "source": [
    "train_df.info()"
   ]
  },
  {
   "cell_type": "code",
   "execution_count": 5,
   "metadata": {},
   "outputs": [
    {
     "data": {
      "text/html": [
       "<div>\n",
       "<style scoped>\n",
       "    .dataframe tbody tr th:only-of-type {\n",
       "        vertical-align: middle;\n",
       "    }\n",
       "\n",
       "    .dataframe tbody tr th {\n",
       "        vertical-align: top;\n",
       "    }\n",
       "\n",
       "    .dataframe thead th {\n",
       "        text-align: right;\n",
       "    }\n",
       "</style>\n",
       "<table border=\"1\" class=\"dataframe\">\n",
       "  <thead>\n",
       "    <tr style=\"text-align: right;\">\n",
       "      <th></th>\n",
       "      <th>employee_id</th>\n",
       "      <th>department</th>\n",
       "      <th>region</th>\n",
       "      <th>education</th>\n",
       "      <th>gender</th>\n",
       "      <th>recruitment_channel</th>\n",
       "      <th>no_of_trainings</th>\n",
       "      <th>age</th>\n",
       "      <th>previous_year_rating</th>\n",
       "      <th>length_of_service</th>\n",
       "      <th>KPIs_met &gt;80%</th>\n",
       "      <th>awards_won?</th>\n",
       "      <th>avg_training_score</th>\n",
       "      <th>is_promoted</th>\n",
       "    </tr>\n",
       "  </thead>\n",
       "  <tbody>\n",
       "    <tr>\n",
       "      <th>0</th>\n",
       "      <td>65438</td>\n",
       "      <td>Sales &amp; Marketing</td>\n",
       "      <td>region_7</td>\n",
       "      <td>Master's &amp; above</td>\n",
       "      <td>f</td>\n",
       "      <td>sourcing</td>\n",
       "      <td>1</td>\n",
       "      <td>35</td>\n",
       "      <td>5.00</td>\n",
       "      <td>8</td>\n",
       "      <td>1</td>\n",
       "      <td>0</td>\n",
       "      <td>49</td>\n",
       "      <td>0</td>\n",
       "    </tr>\n",
       "  </tbody>\n",
       "</table>\n",
       "</div>"
      ],
      "text/plain": [
       "   employee_id         department    region         education gender  \\\n",
       "0        65438  Sales & Marketing  region_7  Master's & above      f   \n",
       "\n",
       "  recruitment_channel  no_of_trainings  age  previous_year_rating  \\\n",
       "0            sourcing                1   35                  5.00   \n",
       "\n",
       "   length_of_service  KPIs_met >80%  awards_won?  avg_training_score  \\\n",
       "0                  8              1            0                  49   \n",
       "\n",
       "   is_promoted  \n",
       "0            0  "
      ]
     },
     "execution_count": 5,
     "metadata": {},
     "output_type": "execute_result"
    }
   ],
   "source": [
    "train_df.head(1)"
   ]
  },
  {
   "cell_type": "code",
   "execution_count": 6,
   "metadata": {},
   "outputs": [
    {
     "name": "stdout",
     "output_type": "stream",
     "text": [
      "<class 'pandas.core.frame.DataFrame'>\n",
      "RangeIndex: 23490 entries, 0 to 23489\n",
      "Data columns (total 13 columns):\n",
      " #   Column                Non-Null Count  Dtype  \n",
      "---  ------                --------------  -----  \n",
      " 0   employee_id           23490 non-null  int64  \n",
      " 1   department            23490 non-null  object \n",
      " 2   region                23490 non-null  object \n",
      " 3   education             22456 non-null  object \n",
      " 4   gender                23490 non-null  object \n",
      " 5   recruitment_channel   23490 non-null  object \n",
      " 6   no_of_trainings       23490 non-null  int64  \n",
      " 7   age                   23490 non-null  int64  \n",
      " 8   previous_year_rating  21678 non-null  float64\n",
      " 9   length_of_service     23490 non-null  int64  \n",
      " 10  KPIs_met >80%         23490 non-null  int64  \n",
      " 11  awards_won?           23490 non-null  int64  \n",
      " 12  avg_training_score    23490 non-null  int64  \n",
      "dtypes: float64(1), int64(7), object(5)\n",
      "memory usage: 2.3+ MB\n"
     ]
    }
   ],
   "source": [
    "test_df.info()"
   ]
  },
  {
   "cell_type": "code",
   "execution_count": 7,
   "metadata": {
    "scrolled": true
   },
   "outputs": [
    {
     "data": {
      "text/html": [
       "<div>\n",
       "<style scoped>\n",
       "    .dataframe tbody tr th:only-of-type {\n",
       "        vertical-align: middle;\n",
       "    }\n",
       "\n",
       "    .dataframe tbody tr th {\n",
       "        vertical-align: top;\n",
       "    }\n",
       "\n",
       "    .dataframe thead th {\n",
       "        text-align: right;\n",
       "    }\n",
       "</style>\n",
       "<table border=\"1\" class=\"dataframe\">\n",
       "  <thead>\n",
       "    <tr style=\"text-align: right;\">\n",
       "      <th></th>\n",
       "      <th>employee_id</th>\n",
       "      <th>department</th>\n",
       "      <th>region</th>\n",
       "      <th>education</th>\n",
       "      <th>gender</th>\n",
       "      <th>recruitment_channel</th>\n",
       "      <th>no_of_trainings</th>\n",
       "      <th>age</th>\n",
       "      <th>previous_year_rating</th>\n",
       "      <th>length_of_service</th>\n",
       "      <th>KPIs_met &gt;80%</th>\n",
       "      <th>awards_won?</th>\n",
       "      <th>avg_training_score</th>\n",
       "    </tr>\n",
       "  </thead>\n",
       "  <tbody>\n",
       "    <tr>\n",
       "      <th>0</th>\n",
       "      <td>8724</td>\n",
       "      <td>Technology</td>\n",
       "      <td>region_26</td>\n",
       "      <td>Bachelor's</td>\n",
       "      <td>m</td>\n",
       "      <td>sourcing</td>\n",
       "      <td>1</td>\n",
       "      <td>24</td>\n",
       "      <td>NaN</td>\n",
       "      <td>1</td>\n",
       "      <td>1</td>\n",
       "      <td>0</td>\n",
       "      <td>77</td>\n",
       "    </tr>\n",
       "    <tr>\n",
       "      <th>1</th>\n",
       "      <td>74430</td>\n",
       "      <td>HR</td>\n",
       "      <td>region_4</td>\n",
       "      <td>Bachelor's</td>\n",
       "      <td>f</td>\n",
       "      <td>other</td>\n",
       "      <td>1</td>\n",
       "      <td>31</td>\n",
       "      <td>3.00</td>\n",
       "      <td>5</td>\n",
       "      <td>0</td>\n",
       "      <td>0</td>\n",
       "      <td>51</td>\n",
       "    </tr>\n",
       "    <tr>\n",
       "      <th>2</th>\n",
       "      <td>72255</td>\n",
       "      <td>Sales &amp; Marketing</td>\n",
       "      <td>region_13</td>\n",
       "      <td>Bachelor's</td>\n",
       "      <td>m</td>\n",
       "      <td>other</td>\n",
       "      <td>1</td>\n",
       "      <td>31</td>\n",
       "      <td>1.00</td>\n",
       "      <td>4</td>\n",
       "      <td>0</td>\n",
       "      <td>0</td>\n",
       "      <td>47</td>\n",
       "    </tr>\n",
       "    <tr>\n",
       "      <th>3</th>\n",
       "      <td>38562</td>\n",
       "      <td>Procurement</td>\n",
       "      <td>region_2</td>\n",
       "      <td>Bachelor's</td>\n",
       "      <td>f</td>\n",
       "      <td>other</td>\n",
       "      <td>3</td>\n",
       "      <td>31</td>\n",
       "      <td>2.00</td>\n",
       "      <td>9</td>\n",
       "      <td>0</td>\n",
       "      <td>0</td>\n",
       "      <td>65</td>\n",
       "    </tr>\n",
       "    <tr>\n",
       "      <th>4</th>\n",
       "      <td>64486</td>\n",
       "      <td>Finance</td>\n",
       "      <td>region_29</td>\n",
       "      <td>Bachelor's</td>\n",
       "      <td>m</td>\n",
       "      <td>sourcing</td>\n",
       "      <td>1</td>\n",
       "      <td>30</td>\n",
       "      <td>4.00</td>\n",
       "      <td>7</td>\n",
       "      <td>0</td>\n",
       "      <td>0</td>\n",
       "      <td>61</td>\n",
       "    </tr>\n",
       "  </tbody>\n",
       "</table>\n",
       "</div>"
      ],
      "text/plain": [
       "   employee_id         department     region   education gender  \\\n",
       "0         8724         Technology  region_26  Bachelor's      m   \n",
       "1        74430                 HR   region_4  Bachelor's      f   \n",
       "2        72255  Sales & Marketing  region_13  Bachelor's      m   \n",
       "3        38562        Procurement   region_2  Bachelor's      f   \n",
       "4        64486            Finance  region_29  Bachelor's      m   \n",
       "\n",
       "  recruitment_channel  no_of_trainings  age  previous_year_rating  \\\n",
       "0            sourcing                1   24                   NaN   \n",
       "1               other                1   31                  3.00   \n",
       "2               other                1   31                  1.00   \n",
       "3               other                3   31                  2.00   \n",
       "4            sourcing                1   30                  4.00   \n",
       "\n",
       "   length_of_service  KPIs_met >80%  awards_won?  avg_training_score  \n",
       "0                  1              1            0                  77  \n",
       "1                  5              0            0                  51  \n",
       "2                  4              0            0                  47  \n",
       "3                  9              0            0                  65  \n",
       "4                  7              0            0                  61  "
      ]
     },
     "execution_count": 7,
     "metadata": {},
     "output_type": "execute_result"
    }
   ],
   "source": [
    "test_df.head()"
   ]
  },
  {
   "cell_type": "markdown",
   "metadata": {},
   "source": [
    "## Preparação dos Dados"
   ]
  },
  {
   "cell_type": "markdown",
   "metadata": {},
   "source": [
    "### Tratamento e Limpeza dos Dados\n",
    "\n",
    "Nesta seção, realizarei importantes etapas de tratamento de limpeza dos dados, tais como:\n",
    "\n",
    "- Renomeio de colunas para Português-BR, a fim de facilitar a manipulação e compreensão dos dados\n",
    "- Verificação de duplicidades\n",
    "- Analisar o tipo dos dados, para eventuais conversões (caso necessário)\n",
    "- Verificação de valores nulos e o seu devido tratamento"
   ]
  },
  {
   "cell_type": "markdown",
   "metadata": {},
   "source": [
    "#### Renomear Variáveis"
   ]
  },
  {
   "cell_type": "code",
   "execution_count": 8,
   "metadata": {},
   "outputs": [
    {
     "data": {
      "text/html": [
       "<div>\n",
       "<style scoped>\n",
       "    .dataframe tbody tr th:only-of-type {\n",
       "        vertical-align: middle;\n",
       "    }\n",
       "\n",
       "    .dataframe tbody tr th {\n",
       "        vertical-align: top;\n",
       "    }\n",
       "\n",
       "    .dataframe thead th {\n",
       "        text-align: right;\n",
       "    }\n",
       "</style>\n",
       "<table border=\"1\" class=\"dataframe\">\n",
       "  <thead>\n",
       "    <tr style=\"text-align: right;\">\n",
       "      <th></th>\n",
       "      <th>matricula</th>\n",
       "      <th>departamento</th>\n",
       "      <th>regiao</th>\n",
       "      <th>escolaridade</th>\n",
       "      <th>genero</th>\n",
       "      <th>canal_recrutamento</th>\n",
       "      <th>qtd_treinamentos</th>\n",
       "      <th>idade</th>\n",
       "      <th>avaliacao_anterior</th>\n",
       "      <th>tempo_empresa</th>\n",
       "      <th>kpis_atingidos</th>\n",
       "      <th>premios</th>\n",
       "      <th>media_treinamento</th>\n",
       "      <th>promovido</th>\n",
       "    </tr>\n",
       "  </thead>\n",
       "  <tbody>\n",
       "    <tr>\n",
       "      <th>0</th>\n",
       "      <td>65438</td>\n",
       "      <td>Sales &amp; Marketing</td>\n",
       "      <td>region_7</td>\n",
       "      <td>Master's &amp; above</td>\n",
       "      <td>f</td>\n",
       "      <td>sourcing</td>\n",
       "      <td>1</td>\n",
       "      <td>35</td>\n",
       "      <td>5.00</td>\n",
       "      <td>8</td>\n",
       "      <td>1</td>\n",
       "      <td>0</td>\n",
       "      <td>49</td>\n",
       "      <td>0</td>\n",
       "    </tr>\n",
       "  </tbody>\n",
       "</table>\n",
       "</div>"
      ],
      "text/plain": [
       "   matricula       departamento    regiao      escolaridade genero  \\\n",
       "0      65438  Sales & Marketing  region_7  Master's & above      f   \n",
       "\n",
       "  canal_recrutamento  qtd_treinamentos  idade  avaliacao_anterior  \\\n",
       "0           sourcing                 1     35                5.00   \n",
       "\n",
       "   tempo_empresa  kpis_atingidos  premios  media_treinamento  promovido  \n",
       "0              8               1        0                 49          0  "
      ]
     },
     "execution_count": 8,
     "metadata": {},
     "output_type": "execute_result"
    }
   ],
   "source": [
    "cols_treino = {\"employee_id\": \"matricula\", \"department\": \"departamento\", \"region\": \"regiao\", \"education\": \"escolaridade\",\n",
    "               \"gender\": \"genero\", \"recruitment_channel\": \"canal_recrutamento\", \"no_of_trainings\": \"qtd_treinamentos\",\n",
    "               \"age\": \"idade\", \"previous_year_rating\": \"avaliacao_anterior\", \"length_of_service\": \"tempo_empresa\",\n",
    "               \"KPIs_met >80%\": \"kpis_atingidos\", \"awards_won?\": \"premios\", \"avg_training_score\": \"media_treinamento\",\n",
    "               \"is_promoted\": \"promovido\"}\n",
    "\n",
    "cols_teste = {\"employee_id\": \"matricula\", \"department\": \"departamento\", \"region\": \"regiao\", \"education\": \"escolaridade\",\n",
    "              \"gender\": \"genero\", \"recruitment_channel\": \"canal_recrutamento\", \"no_of_trainings\": \"qtd_treinamentos\",\n",
    "              \"age\": \"idade\", \"previous_year_rating\": \"avaliacao_anterior\", \"length_of_service\": \"tempo_empresa\",\n",
    "              \"KPIs_met >80%\": \"kpis_atingidos\", \"awards_won?\": \"premios\", \"avg_training_score\": \"media_treinamento\"}\n",
    "\n",
    "train_df = train_df.rename(columns=cols_treino)\n",
    "test_df = test_df.rename(columns=cols_teste) # subconjunto dos nomes para o DF Teste não tem a variável target (promovido)\n",
    "train_df.head(1)"
   ]
  },
  {
   "cell_type": "code",
   "execution_count": 9,
   "metadata": {},
   "outputs": [],
   "source": [
    "X = train_df.drop([\"promovido\", \"matricula\"], axis=1)\n",
    "y = train_df[\"promovido\"]"
   ]
  },
  {
   "cell_type": "markdown",
   "metadata": {},
   "source": [
    "#### Duplicidade"
   ]
  },
  {
   "cell_type": "code",
   "execution_count": 10,
   "metadata": {},
   "outputs": [
    {
     "name": "stdout",
     "output_type": "stream",
     "text": [
      "Não há matrículas duplicadas\n"
     ]
    }
   ],
   "source": [
    "if train_df['matricula'].duplicated().any():\n",
    "    print(\"Existem duplicados\")\n",
    "else:\n",
    "    print(\"Não há matrículas duplicadas\")"
   ]
  },
  {
   "cell_type": "markdown",
   "metadata": {},
   "source": [
    "#### Nulos"
   ]
  },
  {
   "cell_type": "code",
   "execution_count": 11,
   "metadata": {},
   "outputs": [
    {
     "data": {
      "text/plain": [
       "escolaridade          2409\n",
       "avaliacao_anterior    4124\n",
       "dtype: int64"
      ]
     },
     "execution_count": 11,
     "metadata": {},
     "output_type": "execute_result"
    }
   ],
   "source": [
    "train_df.isnull().sum()[train_df.isnull().sum() > 0]"
   ]
  },
  {
   "cell_type": "code",
   "execution_count": 12,
   "metadata": {},
   "outputs": [
    {
     "name": "stdout",
     "output_type": "stream",
     "text": [
      "54808\n"
     ]
    }
   ],
   "source": [
    "print(train_df['matricula'].count())"
   ]
  },
  {
   "cell_type": "code",
   "execution_count": 13,
   "metadata": {},
   "outputs": [
    {
     "data": {
      "text/plain": [
       "escolaridade\n",
       "Bachelor's          36669\n",
       "Master's & above    14925\n",
       "Below Secondary       805\n",
       "Name: count, dtype: int64"
      ]
     },
     "execution_count": 13,
     "metadata": {},
     "output_type": "execute_result"
    }
   ],
   "source": [
    "train_df['escolaridade'].value_counts()"
   ]
  },
  {
   "cell_type": "code",
   "execution_count": 14,
   "metadata": {},
   "outputs": [
    {
     "data": {
      "text/plain": [
       "avaliacao_anterior\n",
       "3.00    18618\n",
       "5.00    11741\n",
       "4.00     9877\n",
       "1.00     6223\n",
       "2.00     4225\n",
       "Name: count, dtype: int64"
      ]
     },
     "execution_count": 14,
     "metadata": {},
     "output_type": "execute_result"
    }
   ],
   "source": [
    "train_df['avaliacao_anterior'].value_counts()"
   ]
  },
  {
   "cell_type": "markdown",
   "metadata": {},
   "source": [
    "**Para este tratamento de dados, optarei pela imputação de valores fixos:**\n",
    "- Avaliação Anterior: para quem não teve nota computada para avaliação anterior, igualaremos à zero (0)\n",
    "- Escolaridade: para quem não tem registro sobre o nível de escolaridade, preencheremos com \"No_Education\""
   ]
  },
  {
   "cell_type": "code",
   "execution_count": 15,
   "metadata": {},
   "outputs": [],
   "source": [
    "# ===============================\n",
    "# 5. Funções de pré-processamento\n",
    "# ===============================\n",
    "def tratar_tipo_dados(df):\n",
    "    for col in df.columns:\n",
    "        try:\n",
    "            df[col] = pd.to_numeric(df[col])\n",
    "        except (ValueError, TypeError):\n",
    "            pass\n",
    "        if df[col].dtype == 'object' and df[col].nunique() / len(df) < 0.3: \n",
    "            df[col] = df[col].astype('category')\n",
    "    lista_colunas = ['kpis_atingidos', 'premios', 'promovido']\n",
    "    for col in lista_colunas:\n",
    "        if col in df.columns:\n",
    "            df[col] = df[col].astype('category')\n",
    "    return df\n",
    "\n",
    "def tratar_variaveis(df):\n",
    "    df = df.copy()\n",
    "    if 'escolaridade' in df.columns:\n",
    "        if df['escolaridade'].dtype.name == 'category':\n",
    "            if 'No_Education' not in df['escolaridade'].cat.categories:\n",
    "                df['escolaridade'] = df['escolaridade'].cat.add_categories(['No_Education'])\n",
    "        df['escolaridade'] = df['escolaridade'].fillna('No_Education')\n",
    "    if 'avaliacao_anterior' in df.columns:\n",
    "        df['avaliacao_anterior'] = df['avaliacao_anterior'].fillna(0)\n",
    "    return df\n",
    "\n",
    "tratamento_type = FunctionTransformer(tratar_tipo_dados)\n",
    "tratamento_custom = FunctionTransformer(tratar_variaveis)"
   ]
  },
  {
   "cell_type": "code",
   "execution_count": 16,
   "metadata": {},
   "outputs": [],
   "source": [
    "# ===============================\n",
    "# 6. Pipelines de numérico e categórico\n",
    "# ===============================\n",
    "num_pipeline = Pipeline(steps=[\n",
    "    (\"imputer\", SimpleImputer(strategy=\"median\")),\n",
    "    (\"scaler\", StandardScaler())\n",
    "])\n",
    "\n",
    "cat_pipeline = Pipeline(steps=[\n",
    "    (\"imputer\", SimpleImputer(strategy=\"most_frequent\")),\n",
    "    (\"encoder\", OneHotEncoder(handle_unknown=\"ignore\"))\n",
    "])\n",
    "\n",
    "# Identificação dinâmica das colunas após tratamento\n",
    "def get_feature_types(df):\n",
    "    df_tmp = tratar_tipo_dados(df.copy())\n",
    "    num_features = df_tmp.select_dtypes(include=['int64', 'float64']).columns.tolist()\n",
    "    cat_features = df_tmp.select_dtypes(include=['object', 'category']).columns.tolist()\n",
    "    return num_features, cat_features\n",
    "\n",
    "num_features, cat_features = get_feature_types(X)\n",
    "\n",
    "preprocessor = ColumnTransformer(transformers=[\n",
    "    (\"num\", num_pipeline, num_features),\n",
    "    (\"cat\", cat_pipeline, cat_features)\n",
    "])"
   ]
  },
  {
   "cell_type": "code",
   "execution_count": 17,
   "metadata": {},
   "outputs": [],
   "source": [
    "# ===============================\n",
    "# 7. Pipeline final\n",
    "# ===============================\n",
    "pipeline_base = Pipeline(steps=[\n",
    "    (\"tratamento_type\", tratamento_type),\n",
    "    (\"tratamento_custom\", tratamento_custom),\n",
    "    (\"preprocessor\", preprocessor)\n",
    "])"
   ]
  },
  {
   "cell_type": "code",
   "execution_count": 18,
   "metadata": {},
   "outputs": [],
   "source": [
    "# ===============================\n",
    "# 8. Função de avaliação\n",
    "# ===============================\n",
    "def print_score(real, pred, proba):\n",
    "    recall = recall_score(real, pred)\n",
    "    precision_curve, recall_curve, _ = precision_recall_curve(real, proba)\n",
    "    aucpr = auc(recall_curve, precision_curve)\n",
    "    f2 = fbeta_score(real, pred, beta=2)\n",
    "    print(f\"Recall: {recall:.4f}\")\n",
    "    print(f\"AUCPR: {aucpr:.4f}\")\n",
    "    print(f\"F2 Score: {f2:.4f}\")\n",
    "    print(\"\\nRelatório completo:\\n\", classification_report(real, pred))\n",
    "    cm = confusion_matrix(real, pred)\n",
    "    ConfusionMatrixDisplay(cm, display_labels=['não-promovido','promovido']).plot()"
   ]
  },
  {
   "cell_type": "code",
   "execution_count": 19,
   "metadata": {},
   "outputs": [],
   "source": [
    "# ===============================\n",
    "# 9. Modelos\n",
    "# ===============================\n",
    "modelos = {\n",
    "    \"Regressão Logística\": LogisticRegression(max_iter=1000, class_weight=\"balanced\"),\n",
    "    \"Árvore de Decisão\": DecisionTreeClassifier(random_state=42, class_weight=\"balanced\"),\n",
    "    \"Random Forest\": RandomForestClassifier(random_state=42, class_weight=\"balanced\")\n",
    "}"
   ]
  },
  {
   "cell_type": "code",
   "execution_count": 20,
   "metadata": {},
   "outputs": [
    {
     "name": "stdout",
     "output_type": "stream",
     "text": [
      "\n",
      "=== Regressão Logística (Validação Cruzada) ===\n",
      "recall: 0.7944 ± 0.0183\n",
      "precision: 0.2418 ± 0.0117\n",
      "f1: 0.3707 ± 0.0153\n",
      "roc_auc: 0.8711 ± 0.0059\n",
      "\n",
      "=== Árvore de Decisão (Validação Cruzada) ===\n",
      "recall: 0.4240 ± 0.0199\n",
      "precision: 0.3955 ± 0.0200\n",
      "f1: 0.4085 ± 0.0111\n",
      "roc_auc: 0.6816 ± 0.0080\n",
      "\n",
      "=== Random Forest (Validação Cruzada) ===\n",
      "recall: 0.2067 ± 0.0345\n",
      "precision: 0.8002 ± 0.0528\n",
      "f1: 0.3273 ± 0.0462\n",
      "roc_auc: 0.8758 ± 0.0067\n"
     ]
    }
   ],
   "source": [
    "# ===============================\n",
    "# 10. Testagem do modelo utilizando Cross-Validation\n",
    "# ===============================\n",
    "\n",
    "X_train, X_val, y_train, y_val = train_test_split(X, y, test_size=0.2, stratify=y, random_state=42)\n",
    "\n",
    "cv = StratifiedKFold(n_splits=5, shuffle=True, random_state=42)\n",
    "\n",
    "scoring = {\n",
    "    \"recall\": \"recall\",\n",
    "    \"precision\": \"precision\",\n",
    "    \"f1\": \"f1\",\n",
    "    \"roc_auc\": \"roc_auc\"\n",
    "}\n",
    "\n",
    "for nome, modelo in modelos.items():\n",
    "    pipeline = Pipeline(steps=[\n",
    "        (\"tratamento_type\", tratamento_type),\n",
    "        (\"tratamento_custom\", tratamento_custom),\n",
    "        (\"preprocessor\", preprocessor),\n",
    "        (\"model\", modelo)\n",
    "    ])\n",
    "    \n",
    "    resultados = cross_validate(\n",
    "        pipeline,\n",
    "        X_val,  \n",
    "        y_val,\n",
    "        cv=cv,\n",
    "        scoring=scoring,\n",
    "        return_train_score=False\n",
    "    )\n",
    "    \n",
    "    print(f\"\\n=== {nome} (Validação Cruzada) ===\")\n",
    "    for metrica in scoring.keys():\n",
    "        media = resultados[f'test_{metrica}'].mean()\n",
    "        desvio = resultados[f'test_{metrica}'].std()\n",
    "        print(f\"{metrica}: {media:.4f} ± {desvio:.4f}\")"
   ]
  },
  {
   "cell_type": "code",
   "execution_count": 21,
   "metadata": {
    "scrolled": true
   },
   "outputs": [
    {
     "name": "stdout",
     "output_type": "stream",
     "text": [
      "\n",
      "=== Random Forest ===\n",
      "Recall: 0.8276\n",
      "AUCPR: 0.4683\n",
      "F2 Score: 0.5595\n",
      "\n",
      "Relatório completo:\n",
      "               precision    recall  f1-score   support\n",
      "\n",
      "           0       0.98      0.76      0.86     10028\n",
      "           1       0.24      0.83      0.38       934\n",
      "\n",
      "    accuracy                           0.77     10962\n",
      "   macro avg       0.61      0.79      0.62     10962\n",
      "weighted avg       0.92      0.77      0.82     10962\n",
      "\n"
     ]
    },
    {
     "data": {
      "image/png": "[encoded data removed]",
      "text/plain": [
       "<Figure size 640x480 with 2 Axes>"
      ]
     },
     "metadata": {},
     "output_type": "display_data"
    }
   ],
   "source": [
    "# ===============================\n",
    "# 11. Treino, validação e avaliação do melhor modelo obtido na seção 10 - CV\n",
    "# ===============================\n",
    "\n",
    "best_model = modelos[\"Regressão Logística\"]\n",
    "pipeline = Pipeline(steps=[\n",
    "    (\"tratamento_type\", tratamento_type),\n",
    "    (\"tratamento_custom\", tratamento_custom),\n",
    "    (\"preprocessor\", preprocessor),\n",
    "    (\"model\", best_model)\n",
    "])\n",
    "pipeline.fit(X_train, y_train)\n",
    "preds = pipeline.predict(X_val)\n",
    "probs = pipeline.predict_proba(X_val)[:, 1]\n",
    "print(f\"\\n=== {nome} ===\")\n",
    "print_score(y_val, preds, probs)"
   ]
  },
  {
   "cell_type": "code",
   "execution_count": 27,
   "metadata": {},
   "outputs": [
    {
     "data": {
      "image/png": "[encoded data removed]",
      "text/plain": [
       "<Figure size 800x500 with 1 Axes>"
      ]
     },
     "metadata": {},
     "output_type": "display_data"
    }
   ],
   "source": [
    "from sklearn.metrics import precision_recall_curve\n",
    "import matplotlib.pyplot as plt\n",
    "\n",
    "precisions, recalls, thresholds = precision_recall_curve(y_val, probs)\n",
    "\n",
    "plt.figure(figsize=(8, 5))\n",
    "plt.plot(recalls, precisions, marker='.')\n",
    "plt.xlabel(\"Recall\")\n",
    "plt.ylabel(\"Precision\")\n",
    "plt.title(\"Curva Precisão x Recall\")\n",
    "plt.grid(True)\n",
    "plt.show()"
   ]
  },
  {
   "cell_type": "code",
   "execution_count": 28,
   "metadata": {},
   "outputs": [
    {
     "name": "stdout",
     "output_type": "stream",
     "text": [
      "Melhor threshold com F1: 0.77 | F1: 0.4211\n"
     ]
    }
   ],
   "source": [
    "from sklearn.metrics import f1_score\n",
    "\n",
    "melhor_f1 = 0\n",
    "melhor_threshold = 0.5\n",
    "\n",
    "for t in thresholds:\n",
    "    preds_threshold = (probs >= t).astype(int)\n",
    "    f1 = f1_score(y_val, preds_threshold)\n",
    "    if f1 > melhor_f1:\n",
    "        melhor_f1 = f1\n",
    "        melhor_threshold = t\n",
    "\n",
    "print(f\"Melhor threshold com F1: {melhor_threshold:.2f} | F1: {melhor_f1:.4f}\")"
   ]
  },
  {
   "cell_type": "code",
   "execution_count": 29,
   "metadata": {},
   "outputs": [],
   "source": [
    "preds_custom = (probs >= melhor_threshold).astype(int)"
   ]
  },
  {
   "cell_type": "code",
   "execution_count": 30,
   "metadata": {},
   "outputs": [
    {
     "name": "stdout",
     "output_type": "stream",
     "text": [
      "Recall: 0.4946\n",
      "AUCPR: 0.4683\n",
      "F2 Score: 0.4624\n",
      "\n",
      "Relatório completo:\n",
      "               precision    recall  f1-score   support\n",
      "\n",
      "           0       0.95      0.92      0.94     10028\n",
      "           1       0.37      0.49      0.42       934\n",
      "\n",
      "    accuracy                           0.88     10962\n",
      "   macro avg       0.66      0.71      0.68     10962\n",
      "weighted avg       0.90      0.88      0.89     10962\n",
      "\n"
     ]
    },
    {
     "data": {
      "image/png": "[encoded data removed]",
      "text/plain": [
       "<Figure size 640x480 with 2 Axes>"
      ]
     },
     "metadata": {},
     "output_type": "display_data"
    }
   ],
   "source": [
    "print_score(y_val, preds_custom, probs)"
   ]
  },
  {
   "cell_type": "code",
   "execution_count": null,
   "metadata": {},
   "outputs": [],
   "source": []
  },
  {
   "cell_type": "code",
   "execution_count": 22,
   "metadata": {},
   "outputs": [],
   "source": [
    "# ===============================\n",
    "# 12. Aplicação no dataset de teste\n",
    "# ===============================\n",
    "\n",
    "final_pipeline = Pipeline(steps=[\n",
    "    (\"tratamento_type\", tratamento_type),\n",
    "    (\"tratamento_custom\", tratamento_custom),\n",
    "    (\"preprocessor\", preprocessor),\n",
    "    (\"model\", best_model)\n",
    "])\n",
    "final_pipeline.fit(X, y)\n",
    "\n",
    "preds_test = final_pipeline.predict(test_df)\n",
    "probs_test = final_pipeline.predict_proba(test_df)[:, 1]"
   ]
  },
  {
   "cell_type": "code",
   "execution_count": 23,
   "metadata": {},
   "outputs": [
    {
     "data": {
      "text/plain": [
       "['modelo_final.pkl']"
      ]
     },
     "execution_count": 23,
     "metadata": {},
     "output_type": "execute_result"
    }
   ],
   "source": [
    "# ===============================\n",
    "# 13. Salvando modelo e resultados\n",
    "# ===============================\n",
    "\n",
    "submission = pd.DataFrame({\n",
    "    \"matricula\": test_df[\"matricula\"],\n",
    "    \"promovido\": preds_test\n",
    "})\n",
    "submission.to_csv(\"predicoes.csv\", index=False)\n",
    "\n",
    "# Salvar modelo treinado\n",
    "joblib.dump(final_pipeline, \"modelo_final.pkl\")"
   ]
  }
 ],
 "metadata": {
  "kernelspec": {
   "display_name": "Python 3 (ipykernel)",
   "language": "python",
   "name": "python3"
  },
  "language_info": {
   "codemirror_mode": {
    "name": "ipython",
    "version": 3
   },
   "file_extension": ".py",
   "mimetype": "text/x-python",
   "name": "python",
   "nbconvert_exporter": "python",
   "pygments_lexer": "ipython3",
   "version": "3.10.9"
  }
 },
 "nbformat": 4,
 "nbformat_minor": 4
}
